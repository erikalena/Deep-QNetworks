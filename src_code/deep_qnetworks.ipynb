{
 "cells": [
  {
   "attachments": {},
   "cell_type": "markdown",
   "metadata": {},
   "source": [
    "## Deep QNetworks\n",
    "\n",
    "Deep Qlearning with experience replay."
   ]
  },
  {
   "cell_type": "code",
   "execution_count": 1,
   "metadata": {},
   "outputs": [],
   "source": [
    "import torch\n",
    "import torch.nn as nn\n",
    "import torch.nn.functional as F\n",
    "import matplotlib.pyplot as plt\n",
    "import numpy as np\n",
    "import copy\n",
    "from qnetworks import ReplayBuffer\n",
    "from deep_qnetworks import DQN, SnakeEnv\n",
    "from tqdm import tqdm\n"
   ]
  },
  {
   "cell_type": "code",
   "execution_count": 2,
   "metadata": {},
   "outputs": [],
   "source": [
    "device = torch.device(\"cuda:0\" if torch.cuda.is_available() else \"cpu\")\n",
    "batch_size = 32  # Size of batch taken from replay buffer"
   ]
  },
  {
   "cell_type": "code",
   "execution_count": 3,
   "metadata": {},
   "outputs": [],
   "source": [
    "# initialize the environment \n",
    "Lx = 20\n",
    "Ly = 20\n",
    "\n",
    "env = SnakeEnv(Lx,Ly)\n",
    "\n",
    "# The first model makes the predictions for Q-values which are used to make a action.\n",
    "model = DQN(in_channels =1, num_actions=env.num_actions, input_size=env.Lx)\n",
    "# The target model makes the prediction of future rewards.\n",
    "# The weights of a target model get updated every 10000 steps thus when the\n",
    "# loss between the Q-values is calculated the target Q-value is stable.\n",
    "model_target = DQN(in_channels = 1, num_actions=env.num_actions, input_size=env.Lx)\n",
    "\n",
    "model.to(device)\n",
    "model_target.to(device)\n",
    "\n",
    "# In the Deepmind paper they use RMSProp however then Adam optimizer\n",
    "# improves training time\n",
    "optimizer = torch.optim.Adam(model.parameters(), lr=0.00025)\n",
    "# huber loss\n",
    "loss_function = nn.HuberLoss()\n",
    "\n",
    "num_actions = env.num_actions\n",
    "action_space = np.arange(num_actions)"
   ]
  },
  {
   "cell_type": "code",
   "execution_count": null,
   "metadata": {},
   "outputs": [],
   "source": [
    "# brief check to see the snake moves as expected\n",
    "\n",
    "\"\"\" env.reset()\n",
    "S_new, reward, done = env.single_step([0,0,2,2], 2)\n",
    "S_new, reward, done = env.single_step(S_new, 2)\n",
    "S_new, reward, done = env.single_step(S_new, 0)\n",
    "S_new, reward, done = env.single_step(S_new, 0)\n",
    "print(env.body)\n",
    "S_new, reward, done = env.single_step([S_new[0],S_new[1],3,3], 2)\n",
    "S_new, reward, done = env.single_step(S_new, 0)\n",
    "print(reward)\n",
    "\n",
    "S_new, reward, done = env.single_step(S_new, 0)\n",
    "S_new, reward, done = env.single_step(S_new, 0)\n",
    "S_new, reward, done = env.single_step(S_new, 0)\n",
    "S_new, reward, done = env.single_step(S_new, 0)\n",
    "S_new, reward, done = env.single_step(S_new, 1)\n",
    "print(reward)\n",
    "\n",
    "\n",
    "env.get_image(S_new) \"\"\""
   ]
  },
  {
   "cell_type": "code",
   "execution_count": 4,
   "metadata": {},
   "outputs": [],
   "source": [
    "def train_step(states, actions, rewards, next_states, dones, discount):\n",
    "    \"\"\"\n",
    "    Perform a training iteration on a batch of data sampled from the experience\n",
    "    replay buffer.\n",
    "\n",
    "    Takes as input:\n",
    "        - states: a batch of states\n",
    "        - actions: a batch of actions\n",
    "        - rewards: a batch of rewards\n",
    "        - next_states: a batch of next states\n",
    "        - dones: a batch of dones\n",
    "        - discount: the discount factor, standard discount factor in RL to evaluate less long term rewards\n",
    "    \"\"\"\n",
    "\n",
    "    # compute targets for Q-learning\n",
    "    # the max Q-value of the next state is the target for the current state\n",
    "    # the image to be fed to the network is a grey scale image of the world\n",
    "    images = [env.get_image(next_state) for next_state in next_states]\n",
    "    input = torch.as_tensor(np.array(images), dtype=torch.float32).unsqueeze(1).to(device)\n",
    "    max_next_qs = model_target(input).max(-1).values\n",
    "\n",
    "    # if the next state is terminal, then the Q-value is just the reward\n",
    "    # otherwise, we add the discounted max Q-value of the next state\n",
    "    target = rewards + (1.0 - dones) * discount * max_next_qs\n",
    "\n",
    "    # then to compute the loss, we also need the Q-value of the current state\n",
    "    images = [env.get_image(state) for state in states]\n",
    "    input = torch.as_tensor(np.array(images), dtype=torch.float32).unsqueeze(1).to(device)\n",
    "    qs = model(input)\n",
    "\n",
    "    # for each state, we update ONLY the Q-value of the action that was taken\n",
    "    action_masks = F.one_hot(torch.as_tensor(np.array(actions)).long(), num_actions)\n",
    "    masked_qs = (action_masks * qs).sum(dim=-1)\n",
    "    loss = loss_function(masked_qs, target.detach())\n",
    "\n",
    "    optimizer.zero_grad()\n",
    "    loss.backward()\n",
    "    optimizer.step()\n",
    "    return loss"
   ]
  },
  {
   "cell_type": "code",
   "execution_count": 6,
   "metadata": {},
   "outputs": [
    {
     "name": "stderr",
     "output_type": "stream",
     "text": [
      "  0%|          | 0/10000 [00:00<?, ?it/s]"
     ]
    },
    {
     "name": "stderr",
     "output_type": "stream",
     "text": [
      "  0%|          | 1/10000 [00:07<21:21:04,  7.69s/it]"
     ]
    },
    {
     "name": "stdout",
     "output_type": "stream",
     "text": [
      "Episode 0/10000. Epsilon: 1.000. Reward in last 100 episodes: -213686.00\n"
     ]
    },
    {
     "name": "stderr",
     "output_type": "stream",
     "text": [
      "  0%|          | 4/10000 [00:33<22:57:50,  8.27s/it]\n"
     ]
    },
    {
     "ename": "KeyboardInterrupt",
     "evalue": "",
     "output_type": "error",
     "traceback": [
      "\u001b[1;31m---------------------------------------------------------------------------\u001b[0m",
      "\u001b[1;31mKeyboardInterrupt\u001b[0m                         Traceback (most recent call last)",
      "Cell \u001b[1;32mIn[6], line 63\u001b[0m\n\u001b[0;32m     61\u001b[0m \u001b[39mif\u001b[39;00m \u001b[39mlen\u001b[39m(buffer) \u001b[39m>\u001b[39m batch_size \u001b[39mand\u001b[39;00m cur_frame \u001b[39m%\u001b[39m update_after_actions \u001b[39m==\u001b[39m \u001b[39m0\u001b[39m:\n\u001b[0;32m     62\u001b[0m     states, actions, rewards, next_states, dones \u001b[39m=\u001b[39m buffer\u001b[39m.\u001b[39msample(batch_size)\n\u001b[1;32m---> 63\u001b[0m     loss \u001b[39m=\u001b[39m train_step(states, actions, rewards, next_states, dones, discount\u001b[39m=\u001b[39;49m\u001b[39m0.99\u001b[39;49m)\n\u001b[0;32m     65\u001b[0m \u001b[39m# Update target network every update_target_network steps.\u001b[39;00m\n\u001b[0;32m     66\u001b[0m \u001b[39mif\u001b[39;00m cur_frame \u001b[39m%\u001b[39m update_target_network \u001b[39m==\u001b[39m \u001b[39m0\u001b[39m:\n",
      "Cell \u001b[1;32mIn[4], line 27\u001b[0m, in \u001b[0;36mtrain_step\u001b[1;34m(states, actions, rewards, next_states, dones, discount)\u001b[0m\n\u001b[0;32m     24\u001b[0m target \u001b[39m=\u001b[39m rewards \u001b[39m+\u001b[39m (\u001b[39m1.0\u001b[39m \u001b[39m-\u001b[39m dones) \u001b[39m*\u001b[39m discount \u001b[39m*\u001b[39m max_next_qs\n\u001b[0;32m     26\u001b[0m \u001b[39m# then to compute the loss, we also need the Q-value of the current state\u001b[39;00m\n\u001b[1;32m---> 27\u001b[0m images \u001b[39m=\u001b[39m [env\u001b[39m.\u001b[39mget_image(state) \u001b[39mfor\u001b[39;00m state \u001b[39min\u001b[39;00m states]\n\u001b[0;32m     28\u001b[0m \u001b[39minput\u001b[39m \u001b[39m=\u001b[39m torch\u001b[39m.\u001b[39mas_tensor(np\u001b[39m.\u001b[39marray(images), dtype\u001b[39m=\u001b[39mtorch\u001b[39m.\u001b[39mfloat32)\u001b[39m.\u001b[39munsqueeze(\u001b[39m1\u001b[39m)\u001b[39m.\u001b[39mto(device)\n\u001b[0;32m     29\u001b[0m qs \u001b[39m=\u001b[39m model(\u001b[39minput\u001b[39m)\n",
      "Cell \u001b[1;32mIn[4], line 27\u001b[0m, in \u001b[0;36m<listcomp>\u001b[1;34m(.0)\u001b[0m\n\u001b[0;32m     24\u001b[0m target \u001b[39m=\u001b[39m rewards \u001b[39m+\u001b[39m (\u001b[39m1.0\u001b[39m \u001b[39m-\u001b[39m dones) \u001b[39m*\u001b[39m discount \u001b[39m*\u001b[39m max_next_qs\n\u001b[0;32m     26\u001b[0m \u001b[39m# then to compute the loss, we also need the Q-value of the current state\u001b[39;00m\n\u001b[1;32m---> 27\u001b[0m images \u001b[39m=\u001b[39m [env\u001b[39m.\u001b[39;49mget_image(state) \u001b[39mfor\u001b[39;00m state \u001b[39min\u001b[39;00m states]\n\u001b[0;32m     28\u001b[0m \u001b[39minput\u001b[39m \u001b[39m=\u001b[39m torch\u001b[39m.\u001b[39mas_tensor(np\u001b[39m.\u001b[39marray(images), dtype\u001b[39m=\u001b[39mtorch\u001b[39m.\u001b[39mfloat32)\u001b[39m.\u001b[39munsqueeze(\u001b[39m1\u001b[39m)\u001b[39m.\u001b[39mto(device)\n\u001b[0;32m     29\u001b[0m qs \u001b[39m=\u001b[39m model(\u001b[39minput\u001b[39m)\n",
      "File \u001b[1;32me:\\Documents\\DSSC\\progetto_RL\\Deep-QNetworks\\src_code\\deep_qnetworks.py:133\u001b[0m, in \u001b[0;36mSnakeEnv.get_image\u001b[1;34m(self, state)\u001b[0m\n\u001b[0;32m    130\u001b[0m \u001b[39mif\u001b[39;00m state[\u001b[39m2\u001b[39m] \u001b[39m>\u001b[39m\u001b[39m=\u001b[39m \u001b[39m0\u001b[39m \u001b[39mand\u001b[39;00m state[\u001b[39m2\u001b[39m] \u001b[39m<\u001b[39m \u001b[39mself\u001b[39m\u001b[39m.\u001b[39mLx \u001b[39mand\u001b[39;00m state[\u001b[39m3\u001b[39m] \u001b[39m>\u001b[39m\u001b[39m=\u001b[39m \u001b[39m0\u001b[39m \u001b[39mand\u001b[39;00m state[\u001b[39m3\u001b[39m] \u001b[39m<\u001b[39m \u001b[39mself\u001b[39m\u001b[39m.\u001b[39mLy:\n\u001b[0;32m    131\u001b[0m     image[\u001b[39mint\u001b[39m(state[\u001b[39m2\u001b[39m]), \u001b[39mint\u001b[39m(state[\u001b[39m3\u001b[39m])] \u001b[39m=\u001b[39m \u001b[39m1\u001b[39m\n\u001b[1;32m--> 133\u001b[0m \u001b[39mif\u001b[39;00m state[\u001b[39m0\u001b[39;49m] \u001b[39m>\u001b[39;49m\u001b[39m=\u001b[39;49m \u001b[39m0\u001b[39;49m \u001b[39mand\u001b[39;00m state[\u001b[39m0\u001b[39m] \u001b[39m<\u001b[39m \u001b[39mself\u001b[39m\u001b[39m.\u001b[39mLx \u001b[39mand\u001b[39;00m state[\u001b[39m1\u001b[39m] \u001b[39m>\u001b[39m\u001b[39m=\u001b[39m \u001b[39m0\u001b[39m \u001b[39mand\u001b[39;00m state[\u001b[39m1\u001b[39m] \u001b[39m<\u001b[39m \u001b[39mself\u001b[39m\u001b[39m.\u001b[39mLy:\n\u001b[0;32m    134\u001b[0m     image[\u001b[39mint\u001b[39m(state[\u001b[39m0\u001b[39m]), \u001b[39mint\u001b[39m(state[\u001b[39m1\u001b[39m])] \u001b[39m=\u001b[39m \u001b[39m1\u001b[39m\n\u001b[0;32m    135\u001b[0m \u001b[39melse\u001b[39;00m:\n\u001b[0;32m    136\u001b[0m     \u001b[39m# if the agent is out of the world, it is dead and so we cancel the food as well\u001b[39;00m\n\u001b[0;32m    137\u001b[0m     \u001b[39m# this check is just for safety reasons, if we allow the snake to go through the walls\u001b[39;00m\n\u001b[0;32m    138\u001b[0m     \u001b[39m# this should never happen\u001b[39;00m\n",
      "\u001b[1;31mKeyboardInterrupt\u001b[0m: "
     ]
    }
   ],
   "source": [
    "# initialize the buffer, with a size of 100000, when it is full, it will remove the oldest element\n",
    "buffer = ReplayBuffer(size = 100000, device=device) \n",
    "\n",
    "cur_frame = 0\n",
    "last_100_ep_rewards = []\n",
    "max_steps_per_episode = 1000\n",
    "max_num_episodes = 10000\n",
    "\n",
    "epsilon = 1.0\n",
    "epsilon_min = 0.1  # Minimum epsilon greedy parameter\n",
    "epsilon_max = 1.0  # Maximum epsilon greedy parameter\n",
    "\n",
    "# Train the model after 4 actions\n",
    "update_after_actions = 4\n",
    "# How often to update the target network\n",
    "update_target_network = 10000\n",
    "\n",
    "# Number of frames to take random action and observe output\n",
    "epsilon_random_frames = 50000\n",
    "# Number of frames for exploration\n",
    "epsilon_greedy_frames = 100000.0\n",
    "\n",
    "\n",
    "\n",
    "env.start = np.array([0,0])\n",
    "\n",
    "for episode in tqdm(range(max_num_episodes)):\n",
    "    env.reset()\n",
    "    episode_reward = 0\n",
    "\n",
    "    # state is a tuple of 4 values made of starting position and goal position\n",
    "    # start of an episode is always [0,0] for snake and a random position for goal\n",
    "    start_x = env.start[0]\n",
    "    start_y = env.start[1]\n",
    "    goal_x = np.random.randint(0,env.Lx)\n",
    "    goal_y = np.random.randint(0,env.Ly)\n",
    "        \n",
    "    state = [start_x, start_y, goal_x, goal_y]\n",
    "\n",
    "\n",
    "    #done = False\n",
    "    timestep = 0\n",
    "\n",
    "    while timestep < max_steps_per_episode:\n",
    "    \n",
    "        cur_frame += 1\n",
    "\n",
    "        state_in = torch.from_numpy(np.expand_dims(state, axis=0)).to(device)\n",
    "        action = env.select_epsilon_greedy_action(model, state_in, epsilon)\n",
    "        \n",
    "        next_state, reward, done = env.single_step(state, action)\n",
    "        episode_reward += reward\n",
    "    \n",
    "\n",
    "        # Save actions and states in replay buffer\n",
    "        buffer.add(state, action, reward, next_state, done)\n",
    "        state = next_state\n",
    "        cur_frame += 1\n",
    "    \n",
    "        # Train neural network.\n",
    "        if len(buffer) > batch_size and cur_frame % update_after_actions == 0:\n",
    "            states, actions, rewards, next_states, dones = buffer.sample(batch_size)\n",
    "            loss = train_step(states, actions, rewards, next_states, dones, discount=0.99)\n",
    "        \n",
    "        # Update target network every update_target_network steps.\n",
    "        if cur_frame % update_target_network == 0:\n",
    "            model_target.load_state_dict(model.state_dict())\n",
    "\n",
    "        timestep += 1\n",
    "\n",
    "        if episode > epsilon_random_frames:\n",
    "            epsilon -= (epsilon_max - epsilon_min) / epsilon_greedy_frames\n",
    "            epsilon = max(epsilon, epsilon_min)\n",
    "    \n",
    "    \n",
    "    if len(last_100_ep_rewards) == 100:\n",
    "        last_100_ep_rewards = last_100_ep_rewards[1:]\n",
    "    last_100_ep_rewards.append(episode_reward)\n",
    "\n",
    "    running_reward = np.mean(last_100_ep_rewards)\n",
    "\n",
    "    if episode % 300 == 0:\n",
    "        print(f'Episode {episode}/{max_num_episodes}. Epsilon: {epsilon:.3f}.'\n",
    "          f' Reward in last 100 episodes: {running_reward:.2f}')\n",
    "\n",
    "    # Condition to consider the task solved\n",
    "    # e.g. to eat at least 6 consecutive food items\n",
    "    # without eating itself, considering also the moves to reach the food\n",
    "    if running_reward > 500: \n",
    "        print(\"Solved at episode {}!\".format(episode))\n",
    "        break"
   ]
  }
 ],
 "metadata": {
  "kernelspec": {
   "display_name": "deep-learn",
   "language": "python",
   "name": "python3"
  },
  "language_info": {
   "codemirror_mode": {
    "name": "ipython",
    "version": 3
   },
   "file_extension": ".py",
   "mimetype": "text/x-python",
   "name": "python",
   "nbconvert_exporter": "python",
   "pygments_lexer": "ipython3",
   "version": "3.9.5"
  },
  "orig_nbformat": 4
 },
 "nbformat": 4,
 "nbformat_minor": 2
}
