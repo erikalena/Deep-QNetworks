{
 "cells": [
  {
   "attachments": {},
   "cell_type": "markdown",
   "metadata": {},
   "source": [
    "## Deep QNetworks\n",
    "\n",
    "Deep Qlearning with experience replay."
   ]
  },
  {
   "cell_type": "markdown",
   "metadata": {},
   "source": [
    "things to do:\n",
    "- correct render methods in env\n",
    "- provide info about body in buffer and as output of step\n",
    "- create separate function for render and epsilon_greedy (use get_obs for all the info you need)\n",
    "- merge these functions and some rules of the game in a separate class Agent\n"
   ]
  },
  {
   "cell_type": "code",
   "execution_count": 1,
   "metadata": {},
   "outputs": [],
   "source": [
    "NUM_ENVS = 3"
   ]
  },
  {
   "cell_type": "code",
   "execution_count": 2,
   "metadata": {},
   "outputs": [],
   "source": [
    "import sys\n",
    "sys.path.insert(0, '/home/alexserra98/uni/r_l/project/Deep-QNetworks/src_code')"
   ]
  },
  {
   "cell_type": "code",
   "execution_count": 3,
   "metadata": {},
   "outputs": [
    {
     "name": "stdout",
     "output_type": "stream",
     "text": [
      "pygame 2.1.3 (SDL 2.0.22, Python 3.10.12)\n",
      "Hello from the pygame community. https://www.pygame.org/contribute.html\n"
     ]
    }
   ],
   "source": [
    "import torch\n",
    "import torch.nn as nn\n",
    "import torch.nn.functional as F\n",
    "import matplotlib.pyplot as plt\n",
    "import numpy as np\n",
    "import copy\n",
    "from qnetworks import ReplayBuffer\n",
    "from deep_qnetworks_vectorized import DQN , SnakeEnv\n",
    "from tqdm import tqdm\n",
    "import gymnasium as gym\n",
    "from gymnasium import spaces\n"
   ]
  },
  {
   "cell_type": "code",
   "execution_count": 4,
   "metadata": {},
   "outputs": [],
   "source": [
    "device = torch.device(\"cuda:0\" if torch.cuda.is_available() else \"cpu\")\n",
    "batch_size = 32  # Size of batch taken from replay buffer"
   ]
  },
  {
   "attachments": {},
   "cell_type": "markdown",
   "metadata": {},
   "source": [
    "## Initiliaze Env"
   ]
  },
  {
   "cell_type": "code",
   "execution_count": 5,
   "metadata": {},
   "outputs": [
    {
     "data": {
      "text/plain": [
       "(OrderedDict([('agent',\n",
       "               array([[0, 0],\n",
       "                      [0, 0],\n",
       "                      [0, 0]])),\n",
       "              ('target',\n",
       "               array([[ 3, 19],\n",
       "                      [19, 11],\n",
       "                      [16, 11]]))]),\n",
       " {'body': array([list([]), list([]), list([])], dtype=object),\n",
       "  '_body': array([ True,  True,  True])})"
      ]
     },
     "execution_count": 5,
     "metadata": {},
     "output_type": "execute_result"
    }
   ],
   "source": [
    "# initialize the environment \n",
    "Lx = 20\n",
    "Ly = 20\n",
    "\n",
    "\n",
    "envs =  gym.vector.AsyncVectorEnv([\n",
    "    lambda: SnakeEnv(size =(Lx,Ly))\n",
    "    for _ in range(NUM_ENVS)\n",
    "], context='forkserver')\n",
    "\n",
    "\n",
    "# The first model makes the predictions for Q-values which are used to make a action.\n",
    "model = DQN(in_channels =1, num_actions=envs.single_action_space.n, input_size=envs.single_observation_space.spaces[\"agent\"].high[0])\n",
    "# The target model makes the prediction of future rewards.\n",
    "# The weights of a target model get updated every 10000 steps thus when the\n",
    "# loss between the Q-values is calculated the target Q-value is stable.\n",
    "model_target = DQN(in_channels = 1, num_actions=envs.single_action_space.n, input_size=envs.single_observation_space.spaces[\"agent\"].high[0])\n",
    "\n",
    "model.to(device)\n",
    "model_target.to(device)\n",
    "\n",
    "# In the Deepmind paper they use RMSProp however then Adam optimizer\n",
    "# improves training time\n",
    "optimizer = torch.optim.Adam(model.parameters(), lr=0.00025)\n",
    "# huber loss\n",
    "loss_function = nn.HuberLoss()\n",
    "\n",
    "num_actions = envs.single_action_space.n\n",
    "action_space = np.arange(num_actions)\n",
    "envs.reset()"
   ]
  },
  {
   "cell_type": "markdown",
   "metadata": {},
   "source": [
    "### Utils"
   ]
  },
  {
   "cell_type": "code",
   "execution_count": 6,
   "metadata": {},
   "outputs": [],
   "source": [
    "def get_image(state,body):\n",
    "    \"\"\"\n",
    "    Represent the game as an image, state input is a tuple of 4 elements\n",
    "    (x,y,x_food,y_food)\n",
    "    \"\"\"\n",
    "    image = np.zeros((Lx,Ly))\n",
    "    if state[2] >= 0 and state[2] < Lx and state[3] >= 0 and state[3] < Ly:\n",
    "        image[int(state[2]), int(state[3])] = 1\n",
    "\n",
    "    if state[0] >= 0 and state[0] < Lx and state[1] >= 0 and state[1] < Ly:\n",
    "        image[int(state[0]), int(state[1])] = 1\n",
    "    else:\n",
    "        # if the agent is out of the world, it is dead and so we cancel the food as well\n",
    "        # this check is just for safety reasons, if we allow the snake to go through the walls\n",
    "        # this should never happen\n",
    "        image[int(state[2]), int(state[3])] = 0 \n",
    "        \n",
    "    for i in range(len(body)):\n",
    "        if body[i][0] >= 0 and body[i][0] < Lx and body[i][1] >= 0 and body[i][1] < Ly:\n",
    "            image[int(body[i][0]), int(body[i][1])] = 1\n",
    "        \n",
    "    return image\n",
    "\n",
    "def select_epsilon_greedy_action(model, epsilon, states, bodies):\n",
    "    \"\"\"\n",
    "    Take random action with probability epsilon, \n",
    "    else take best action.\n",
    "    \"\"\"\n",
    "    ret = []\n",
    "    for state, body in zip(states, bodies):\n",
    "        result = np.random.uniform()\n",
    "        if result < epsilon:\n",
    "            ret.append(np.random.choice(np.arange(num_actions))) \n",
    "        else:\n",
    "            # input is a tensor of floats\n",
    "            images = get_image(state, body) \n",
    "            input = torch.as_tensor(images, dtype=torch.float32).unsqueeze(0).unsqueeze(0).to(model.device)\n",
    "\n",
    "            qs = model(input).cpu().data.numpy()\n",
    "            ret.append(np.argmax(qs))\n",
    "    return ret\n"
   ]
  },
  {
   "attachments": {},
   "cell_type": "markdown",
   "metadata": {},
   "source": [
    "## Train model"
   ]
  },
  {
   "cell_type": "code",
   "execution_count": 7,
   "metadata": {},
   "outputs": [],
   "source": [
    "def train_step(states, actions, rewards, next_states, dones, bodies, new_bodies, discount):\n",
    "    \"\"\"\n",
    "    Perform a training iteration on a batch of data sampled from the experience\n",
    "    replay buffer.\n",
    "\n",
    "    Takes as input:\n",
    "        - states: a batch of states\n",
    "        - actions: a batch of actions\n",
    "        - rewards: a batch of rewards\n",
    "        - next_states: a batch of next states\n",
    "        - dones: a batch of dones\n",
    "        - discount: the discount factor, standard discount factor in RL to evaluate less long term rewards\n",
    "    \"\"\"\n",
    "\n",
    "    # compute targets for Q-learning\n",
    "    # the max Q-value of the next state is the target for the current state\n",
    "    # the image to be fed to the network is a grey scale image of the world\n",
    "    images = [get_image(next_state, new_body) for next_state, new_body in zip(next_states,new_bodies)]\n",
    "    input = torch.as_tensor(np.array(images), dtype=torch.float32).unsqueeze(1).to(device)\n",
    "    max_next_qs = model_target(input).max(-1).values\n",
    "\n",
    "    # if the next state is terminal, then the Q-value is just the reward\n",
    "    # otherwise, we add the discounted max Q-value of the next state\n",
    "    target = rewards + (1.0 - dones) * discount * max_next_qs\n",
    "\n",
    "    # then to compute the loss, we also need the Q-value of the current state\n",
    "    images = [get_image(state, body) for state, body in zip(states,bodies)]\n",
    "    input = torch.as_tensor(np.array(images), dtype=torch.float32).unsqueeze(1).to(device)\n",
    "    qs = model(input)\n",
    "\n",
    "    # for each state, we update ONLY the Q-value of the action that was taken\n",
    "\n",
    "    #action_masks = F.one_hot(torch.as_tensor(np.array(actions)).long(), num_actions)\n",
    "    action_masks = F.one_hot(actions.long(), num_actions)\n",
    "    masked_qs = (action_masks * qs).sum(dim=-1)\n",
    "    loss = loss_function(masked_qs, target.detach())\n",
    "\n",
    "    optimizer.zero_grad()\n",
    "    loss.backward()\n",
    "    optimizer.step()\n",
    "    return loss"
   ]
  },
  {
   "attachments": {},
   "cell_type": "markdown",
   "metadata": {},
   "source": [
    "### Train"
   ]
  },
  {
   "cell_type": "code",
   "execution_count": 8,
   "metadata": {},
   "outputs": [
    {
     "name": "stderr",
     "output_type": "stream",
     "text": [
      "  0%|          | 2/10000 [00:17<23:56:00,  8.62s/it]\n"
     ]
    },
    {
     "ename": "KeyboardInterrupt",
     "evalue": "",
     "output_type": "error",
     "traceback": [
      "\u001b[0;31m---------------------------------------------------------------------------\u001b[0m",
      "\u001b[0;31mKeyboardInterrupt\u001b[0m                         Traceback (most recent call last)",
      "Cell \u001b[0;32mIn[8], line 58\u001b[0m\n\u001b[1;32m     56\u001b[0m \u001b[39mif\u001b[39;00m \u001b[39mlen\u001b[39m(buffer) \u001b[39m>\u001b[39m batch_size \u001b[39mand\u001b[39;00m cur_frame \u001b[39m%\u001b[39m update_after_actions \u001b[39m==\u001b[39m \u001b[39m0\u001b[39m:\n\u001b[1;32m     57\u001b[0m     states, actions, rewards, next_states, dones, bodies, new_bodies \u001b[39m=\u001b[39m buffer\u001b[39m.\u001b[39msample(batch_size)\n\u001b[0;32m---> 58\u001b[0m     loss \u001b[39m=\u001b[39m train_step(states, actions, rewards, next_states, dones, bodies, new_bodies, discount\u001b[39m=\u001b[39;49m\u001b[39m0.99\u001b[39;49m)\n\u001b[1;32m     60\u001b[0m \u001b[39m# Update target network every update_target_network steps.\u001b[39;00m\n\u001b[1;32m     61\u001b[0m \u001b[39mif\u001b[39;00m cur_frame \u001b[39m%\u001b[39m update_target_network \u001b[39m==\u001b[39m \u001b[39m0\u001b[39m:\n",
      "Cell \u001b[0;32mIn[7], line 18\u001b[0m, in \u001b[0;36mtrain_step\u001b[0;34m(states, actions, rewards, next_states, dones, bodies, new_bodies, discount)\u001b[0m\n\u001b[1;32m      2\u001b[0m \u001b[39m\u001b[39m\u001b[39m\"\"\"\u001b[39;00m\n\u001b[1;32m      3\u001b[0m \u001b[39mPerform a training iteration on a batch of data sampled from the experience\u001b[39;00m\n\u001b[1;32m      4\u001b[0m \u001b[39mreplay buffer.\u001b[39;00m\n\u001b[0;32m   (...)\u001b[0m\n\u001b[1;32m     12\u001b[0m \u001b[39m    - discount: the discount factor, standard discount factor in RL to evaluate less long term rewards\u001b[39;00m\n\u001b[1;32m     13\u001b[0m \u001b[39m\"\"\"\u001b[39;00m\n\u001b[1;32m     15\u001b[0m \u001b[39m# compute targets for Q-learning\u001b[39;00m\n\u001b[1;32m     16\u001b[0m \u001b[39m# the max Q-value of the next state is the target for the current state\u001b[39;00m\n\u001b[1;32m     17\u001b[0m \u001b[39m# the image to be fed to the network is a grey scale image of the world\u001b[39;00m\n\u001b[0;32m---> 18\u001b[0m images \u001b[39m=\u001b[39m [get_image(next_state, new_body) \u001b[39mfor\u001b[39;00m next_state, new_body \u001b[39min\u001b[39;00m \u001b[39mzip\u001b[39m(next_states,new_bodies)]\n\u001b[1;32m     19\u001b[0m \u001b[39minput\u001b[39m \u001b[39m=\u001b[39m torch\u001b[39m.\u001b[39mas_tensor(np\u001b[39m.\u001b[39marray(images), dtype\u001b[39m=\u001b[39mtorch\u001b[39m.\u001b[39mfloat32)\u001b[39m.\u001b[39munsqueeze(\u001b[39m1\u001b[39m)\u001b[39m.\u001b[39mto(device)\n\u001b[1;32m     20\u001b[0m max_next_qs \u001b[39m=\u001b[39m model_target(\u001b[39minput\u001b[39m)\u001b[39m.\u001b[39mmax(\u001b[39m-\u001b[39m\u001b[39m1\u001b[39m)\u001b[39m.\u001b[39mvalues\n",
      "Cell \u001b[0;32mIn[7], line 18\u001b[0m, in \u001b[0;36m<listcomp>\u001b[0;34m(.0)\u001b[0m\n\u001b[1;32m      2\u001b[0m \u001b[39m\u001b[39m\u001b[39m\"\"\"\u001b[39;00m\n\u001b[1;32m      3\u001b[0m \u001b[39mPerform a training iteration on a batch of data sampled from the experience\u001b[39;00m\n\u001b[1;32m      4\u001b[0m \u001b[39mreplay buffer.\u001b[39;00m\n\u001b[0;32m   (...)\u001b[0m\n\u001b[1;32m     12\u001b[0m \u001b[39m    - discount: the discount factor, standard discount factor in RL to evaluate less long term rewards\u001b[39;00m\n\u001b[1;32m     13\u001b[0m \u001b[39m\"\"\"\u001b[39;00m\n\u001b[1;32m     15\u001b[0m \u001b[39m# compute targets for Q-learning\u001b[39;00m\n\u001b[1;32m     16\u001b[0m \u001b[39m# the max Q-value of the next state is the target for the current state\u001b[39;00m\n\u001b[1;32m     17\u001b[0m \u001b[39m# the image to be fed to the network is a grey scale image of the world\u001b[39;00m\n\u001b[0;32m---> 18\u001b[0m images \u001b[39m=\u001b[39m [get_image(next_state, new_body) \u001b[39mfor\u001b[39;00m next_state, new_body \u001b[39min\u001b[39;00m \u001b[39mzip\u001b[39m(next_states,new_bodies)]\n\u001b[1;32m     19\u001b[0m \u001b[39minput\u001b[39m \u001b[39m=\u001b[39m torch\u001b[39m.\u001b[39mas_tensor(np\u001b[39m.\u001b[39marray(images), dtype\u001b[39m=\u001b[39mtorch\u001b[39m.\u001b[39mfloat32)\u001b[39m.\u001b[39munsqueeze(\u001b[39m1\u001b[39m)\u001b[39m.\u001b[39mto(device)\n\u001b[1;32m     20\u001b[0m max_next_qs \u001b[39m=\u001b[39m model_target(\u001b[39minput\u001b[39m)\u001b[39m.\u001b[39mmax(\u001b[39m-\u001b[39m\u001b[39m1\u001b[39m)\u001b[39m.\u001b[39mvalues\n",
      "Cell \u001b[0;32mIn[6], line 8\u001b[0m, in \u001b[0;36mget_image\u001b[0;34m(state, body)\u001b[0m\n\u001b[1;32m      6\u001b[0m image \u001b[39m=\u001b[39m np\u001b[39m.\u001b[39mzeros((Lx,Ly))\n\u001b[1;32m      7\u001b[0m \u001b[39mif\u001b[39;00m state[\u001b[39m2\u001b[39m] \u001b[39m>\u001b[39m\u001b[39m=\u001b[39m \u001b[39m0\u001b[39m \u001b[39mand\u001b[39;00m state[\u001b[39m2\u001b[39m] \u001b[39m<\u001b[39m Lx \u001b[39mand\u001b[39;00m state[\u001b[39m3\u001b[39m] \u001b[39m>\u001b[39m\u001b[39m=\u001b[39m \u001b[39m0\u001b[39m \u001b[39mand\u001b[39;00m state[\u001b[39m3\u001b[39m] \u001b[39m<\u001b[39m Ly:\n\u001b[0;32m----> 8\u001b[0m     image[\u001b[39mint\u001b[39;49m(state[\u001b[39m2\u001b[39;49m]), \u001b[39mint\u001b[39m(state[\u001b[39m3\u001b[39m])] \u001b[39m=\u001b[39m \u001b[39m1\u001b[39m\n\u001b[1;32m     10\u001b[0m \u001b[39mif\u001b[39;00m state[\u001b[39m0\u001b[39m] \u001b[39m>\u001b[39m\u001b[39m=\u001b[39m \u001b[39m0\u001b[39m \u001b[39mand\u001b[39;00m state[\u001b[39m0\u001b[39m] \u001b[39m<\u001b[39m Lx \u001b[39mand\u001b[39;00m state[\u001b[39m1\u001b[39m] \u001b[39m>\u001b[39m\u001b[39m=\u001b[39m \u001b[39m0\u001b[39m \u001b[39mand\u001b[39;00m state[\u001b[39m1\u001b[39m] \u001b[39m<\u001b[39m Ly:\n\u001b[1;32m     11\u001b[0m     image[\u001b[39mint\u001b[39m(state[\u001b[39m0\u001b[39m]), \u001b[39mint\u001b[39m(state[\u001b[39m1\u001b[39m])] \u001b[39m=\u001b[39m \u001b[39m1\u001b[39m\n",
      "\u001b[0;31mKeyboardInterrupt\u001b[0m: "
     ]
    }
   ],
   "source": [
    "# initialize the buffer, with a size of 100000, when it is full, it will remove the oldest element\n",
    "buffer = ReplayBuffer(size = 100000, device=device) \n",
    "\n",
    "cur_frame = 0\n",
    "last_100_ep_rewards = []\n",
    "max_steps_per_episode = 100\n",
    "max_num_episodes = 10000\n",
    "\n",
    "epsilon = 1.0\n",
    "epsilon_min = 0.1  # Minimum epsilon greedy parameter\n",
    "epsilon_max = 1.0  # Maximum epsilon greedy parameter\n",
    "\n",
    "# Train the model after 4 actions\n",
    "update_after_actions = 4\n",
    "# How often to update the target network\n",
    "update_target_network = 10000\n",
    "\n",
    "# Number of frames to take random action and observe output\n",
    "epsilon_random_frames = 50000\n",
    "# Number of frames for exploration\n",
    "epsilon_greedy_frames = 100000.0\n",
    "\n",
    "filename = 'dqn_results.txt'\n",
    "\n",
    "#env.start = np.array([0,0])\n",
    "\n",
    "for episode in tqdm(range(max_num_episodes)):\n",
    "    envs.reset()\n",
    "    episode_reward = np.zeros(NUM_ENVS)\n",
    "\n",
    "    timestep = 0\n",
    "\n",
    "    while timestep < max_steps_per_episode:\n",
    "    \n",
    "        cur_frame += 1\n",
    "\n",
    "        agent = np.stack(envs.get_attr(\"_agent_location\"))\n",
    "        target = np.stack(envs.get_attr(\"_target_location\"))\n",
    "        states = np.concatenate((agent,target),axis=1)\n",
    "        bodies = list(envs.get_attr(\"body\"))\n",
    "        actions = select_epsilon_greedy_action(model, 1.0, states, bodies)\n",
    "        \n",
    "        \n",
    "        \n",
    "        next_states, rewards, dones, _, new_bodies = envs.step(actions)\n",
    "        next_states = np.concatenate((next_states[\"agent\"],next_states[\"target\"]),axis=1)\n",
    "        episode_reward += rewards\n",
    "        new_bodies = list(new_bodies[\"body\"])\n",
    "        \n",
    "        # Save actions and states in replay buffer\n",
    "        buffer.add_multiple(states, actions, rewards, next_states, dones, bodies, new_bodies)\n",
    "\n",
    "        cur_frame += 1\n",
    "\n",
    "        # Train neural network.\n",
    "        if len(buffer) > batch_size and cur_frame % update_after_actions == 0:\n",
    "            states, actions, rewards, next_states, dones, bodies, new_bodies = buffer.sample(batch_size)\n",
    "            loss = train_step(states, actions, rewards, next_states, dones, bodies, new_bodies, discount=0.99)\n",
    "        \n",
    "        # Update target network every update_target_network steps.\n",
    "        if cur_frame % update_target_network == 0:\n",
    "            model_target.load_state_dict(model.state_dict())\n",
    "\n",
    "        timestep += 1\n",
    "\n",
    "        if timestep > epsilon_random_frames:\n",
    "            epsilon -= (epsilon_max - epsilon_min) / epsilon_greedy_frames\n",
    "            epsilon = max(epsilon, epsilon_min)\n",
    "    \n",
    "\n",
    "    \n",
    "    if len(last_100_ep_rewards) == 100:\n",
    "        last_100_ep_rewards = last_100_ep_rewards[1:]\n",
    "    last_100_ep_rewards.append(episode_reward)\n",
    "\n",
    "    running_reward = np.mean(last_100_ep_rewards)\n",
    "\n",
    "    if episode+1 % 100 == 0:\n",
    "        \"\"\" print(f'Episode {episode}/{max_num_episodes}. Epsilon: {epsilon:.3f}.'\n",
    "        f' Reward in last 100 episodes: {running_reward:.2f}') \"\"\"\n",
    "\n",
    "        # write on file current average reward\n",
    "        with open(filename, 'a') as f:\n",
    "            f.write(f'{episode},{running_reward:.2f}, {epsilon:.3f}\\n')\n",
    "\n",
    "    # Condition to consider the task solved\n",
    "    # e.g. to eat at least 6 consecutive food items\n",
    "    # without eating itself, considering also the moves to reach the food\n",
    "    if running_reward > 500: \n",
    "        print(\"Solved at episode {}!\".format(episode))\n",
    "        break"
   ]
  }
 ],
 "metadata": {
  "kernelspec": {
   "display_name": "deep-learn",
   "language": "python",
   "name": "python3"
  },
  "language_info": {
   "codemirror_mode": {
    "name": "ipython",
    "version": 3
   },
   "file_extension": ".py",
   "mimetype": "text/x-python",
   "name": "python",
   "nbconvert_exporter": "python",
   "pygments_lexer": "ipython3",
   "version": "3.10.12"
  },
  "orig_nbformat": 4
 },
 "nbformat": 4,
 "nbformat_minor": 2
}
