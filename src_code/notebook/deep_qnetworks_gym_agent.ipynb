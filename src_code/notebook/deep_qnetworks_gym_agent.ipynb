{
 "cells": [
  {
   "attachments": {},
   "cell_type": "markdown",
   "metadata": {},
   "source": [
    "## Deep QNetworks\n",
    "\n",
    "Deep Qlearning with experience replay."
   ]
  },
  {
   "cell_type": "markdown",
   "metadata": {},
   "source": [
    "things to do:\n",
    "- correct render methods in env\n",
    "- provide info about body in buffer and as output of step\n",
    "- create separate function for render and epsilon_greedy (use get_obs for all the info you need)\n",
    "- merge these functions and some rules of the game in a separate class Agent\n"
   ]
  },
  {
   "cell_type": "code",
   "execution_count": 1,
   "metadata": {},
   "outputs": [],
   "source": [
    "import sys\n",
    "sys.path.insert(0, '/home/alexserra98/uni/r_l/project/Deep-QNetworks/src_code')"
   ]
  },
  {
   "cell_type": "code",
   "execution_count": 2,
   "metadata": {},
   "outputs": [
    {
     "name": "stdout",
     "output_type": "stream",
     "text": [
      "pygame 2.1.3 (SDL 2.0.22, Python 3.10.12)\n",
      "Hello from the pygame community. https://www.pygame.org/contribute.html\n"
     ]
    }
   ],
   "source": [
    "import torch\n",
    "import torch.nn as nn\n",
    "import torch.nn.functional as F\n",
    "import matplotlib.pyplot as plt\n",
    "import numpy as np\n",
    "import copy\n",
    "from qnetworks import ReplayBuffer\n",
    "from deep_qnetworks_vectorized import DQN , SnakeEnv, SnakeAgent\n",
    "from tqdm import tqdm\n",
    "import gymnasium as gym\n",
    "from gymnasium import spaces\n"
   ]
  },
  {
   "cell_type": "code",
   "execution_count": 3,
   "metadata": {},
   "outputs": [],
   "source": [
    "device = torch.device(\"cuda:0\" if torch.cuda.is_available() else \"cpu\")\n",
    "batch_size = 32  # Size of batch taken from replay buffer"
   ]
  },
  {
   "cell_type": "markdown",
   "metadata": {},
   "source": [
    "#### Set up"
   ]
  },
  {
   "cell_type": "code",
   "execution_count": 4,
   "metadata": {},
   "outputs": [],
   "source": [
    "# initialize the environment \n",
    "Lx = 20\n",
    "Ly = 20\n",
    "\n",
    "env = SnakeEnv(size =(Lx,Ly))\n",
    "\n",
    "# Initialize the models\n",
    "model = DQN(in_channels =1, num_actions=env.action_space.n, input_size=env.Lx)\n",
    "# The target model makes the prediction of future rewards.\n",
    "# The weights of a target model get updated every 10000 steps thus when the\n",
    "# loss between the Q-values is calculated the target Q-value is stable.\n",
    "model_target = DQN(in_channels = 1, num_actions=env.action_space.n, input_size=env.Lx)\n",
    "\n",
    "model.to(device)\n",
    "model_target.to(device)\n",
    "\n",
    "# In the Deepmind paper they use RMSProp however then Adam optimizer\n",
    "# improves training time\n",
    "optimizer = torch.optim.Adam(model.parameters(), lr=0.00025)\n",
    "# huber loss\n",
    "loss_function = nn.HuberLoss()\n",
    "\n",
    "# Train hyperparameters\n",
    "\n",
    "cur_frame = 0\n",
    "last_100_ep_rewards = []\n",
    "max_steps_per_episode = 100\n",
    "max_num_episodes = 10000\n",
    "\n",
    "# Train the model after 4 actions\n",
    "update_after_actions = 4\n",
    "# How often to update the target network\n",
    "update_target_network = 10000\n",
    "\n",
    "# Number of frames to take random action and observe output\n",
    "epsilon_random_frames = 50000\n",
    "# Number of frames for exploration\n",
    "epsilon_greedy_frames = 100000.0\n",
    "\n",
    "filename = 'dqn_results.txt'\n",
    "\n",
    "# Initialize the agent\n",
    "num_actions = env.action_space.n\n",
    "#action_space = spaces.Discrete(4)\n",
    "learning_rate = 0.01\n",
    "initial_epsilon = 1.0\n",
    "\n",
    "epsilon_decay = initial_epsilon / (max_num_episodes / 2) \n",
    "final_epsilon = 0.1\n",
    "snake_agent = SnakeAgent(learning_rate, initial_epsilon, epsilon_decay, final_epsilon, env=env)\n",
    "\n",
    "\n"
   ]
  },
  {
   "attachments": {},
   "cell_type": "markdown",
   "metadata": {},
   "source": [
    "## Train model"
   ]
  },
  {
   "cell_type": "code",
   "execution_count": 5,
   "metadata": {},
   "outputs": [],
   "source": [
    "def train_step(states, actions, rewards, next_states, dones, bodies, new_bodies, discount):\n",
    "    \"\"\"\n",
    "    Perform a training iteration on a batch of data sampled from the experience\n",
    "    replay buffer.\n",
    "\n",
    "    Takes as input:\n",
    "        - states: a batch of states\n",
    "        - actions: a batch of actions\n",
    "        - rewards: a batch of rewards\n",
    "        - next_states: a batch of next states\n",
    "        - dones: a batch of dones\n",
    "        - discount: the discount factor, standard discount factor in RL to evaluate less long term rewards\n",
    "    \"\"\"\n",
    "\n",
    "    # compute targets for Q-learning\n",
    "    # the max Q-value of the next state is the target for the current state\n",
    "    # the image to be fed to the network is a grey scale image of the world\n",
    "    images = [snake_agent.get_image(next_state, new_body) for next_state, new_body in zip(next_states,new_bodies)]\n",
    "    input = torch.as_tensor(np.array(images), dtype=torch.float32).unsqueeze(1).to(device)\n",
    "    max_next_qs = snake_agent.model_target(input).max(-1).values\n",
    "\n",
    "    # if the next state is terminal, then the Q-value is just the reward\n",
    "    # otherwise, we add the discounted max Q-value of the next state\n",
    "    target = rewards + (1.0 - dones) * snake_agent.discount_factor * max_next_qs\n",
    "\n",
    "    # then to compute the loss, we also need the Q-value of the current state\n",
    "    images = [snake_agent.get_image(state, body) for state, body in zip(states,bodies)]\n",
    "    input = torch.as_tensor(np.array(images), dtype=torch.float32).unsqueeze(1).to(device)\n",
    "    qs = snake_agent.model(input)\n",
    "\n",
    "    # for each state, we update ONLY the Q-value of the action that was taken\n",
    "\n",
    "    #action_masks = F.one_hot(torch.as_tensor(np.array(actions)).long(), num_actions)\n",
    "    action_masks = F.one_hot(actions.long(), num_actions)\n",
    "    masked_qs = (action_masks * qs).sum(dim=-1)\n",
    "    loss = loss_function(masked_qs, target.detach())\n",
    "\n",
    "    optimizer.zero_grad()\n",
    "    loss.backward()\n",
    "    optimizer.step()\n",
    "    return loss"
   ]
  },
  {
   "attachments": {},
   "cell_type": "markdown",
   "metadata": {},
   "source": [
    "### Train"
   ]
  },
  {
   "cell_type": "code",
   "execution_count": 6,
   "metadata": {},
   "outputs": [
    {
     "name": "stderr",
     "output_type": "stream",
     "text": [
      "  0%|          | 4/10000 [00:19<13:36:59,  4.90s/it]\n"
     ]
    },
    {
     "ename": "KeyboardInterrupt",
     "evalue": "",
     "output_type": "error",
     "traceback": [
      "\u001b[0;31m---------------------------------------------------------------------------\u001b[0m",
      "\u001b[0;31mKeyboardInterrupt\u001b[0m                         Traceback (most recent call last)",
      "Cell \u001b[0;32mIn[6], line 35\u001b[0m\n\u001b[1;32m     33\u001b[0m \u001b[39mif\u001b[39;00m \u001b[39mlen\u001b[39m(buffer) \u001b[39m>\u001b[39m batch_size \u001b[39mand\u001b[39;00m cur_frame \u001b[39m%\u001b[39m update_after_actions \u001b[39m==\u001b[39m \u001b[39m0\u001b[39m:\n\u001b[1;32m     34\u001b[0m     states, actions, rewards, next_states, dones, bodies, new_bodies \u001b[39m=\u001b[39m buffer\u001b[39m.\u001b[39msample(batch_size)\n\u001b[0;32m---> 35\u001b[0m     loss \u001b[39m=\u001b[39m train_step(states, actions, rewards, next_states, dones, bodies, new_bodies, discount\u001b[39m=\u001b[39;49m\u001b[39m0.99\u001b[39;49m)\n\u001b[1;32m     37\u001b[0m \u001b[39m# Update target network every update_target_network steps.\u001b[39;00m\n\u001b[1;32m     38\u001b[0m \u001b[39mif\u001b[39;00m cur_frame \u001b[39m%\u001b[39m update_target_network \u001b[39m==\u001b[39m \u001b[39m0\u001b[39m:\n",
      "Cell \u001b[0;32mIn[5], line 27\u001b[0m, in \u001b[0;36mtrain_step\u001b[0;34m(states, actions, rewards, next_states, dones, bodies, new_bodies, discount)\u001b[0m\n\u001b[1;32m     24\u001b[0m target \u001b[39m=\u001b[39m rewards \u001b[39m+\u001b[39m (\u001b[39m1.0\u001b[39m \u001b[39m-\u001b[39m dones) \u001b[39m*\u001b[39m snake_agent\u001b[39m.\u001b[39mdiscount_factor \u001b[39m*\u001b[39m max_next_qs\n\u001b[1;32m     26\u001b[0m \u001b[39m# then to compute the loss, we also need the Q-value of the current state\u001b[39;00m\n\u001b[0;32m---> 27\u001b[0m images \u001b[39m=\u001b[39m [snake_agent\u001b[39m.\u001b[39mget_image(state, body) \u001b[39mfor\u001b[39;00m state, body \u001b[39min\u001b[39;00m \u001b[39mzip\u001b[39m(states,bodies)]\n\u001b[1;32m     28\u001b[0m \u001b[39minput\u001b[39m \u001b[39m=\u001b[39m torch\u001b[39m.\u001b[39mas_tensor(np\u001b[39m.\u001b[39marray(images), dtype\u001b[39m=\u001b[39mtorch\u001b[39m.\u001b[39mfloat32)\u001b[39m.\u001b[39munsqueeze(\u001b[39m1\u001b[39m)\u001b[39m.\u001b[39mto(device)\n\u001b[1;32m     29\u001b[0m qs \u001b[39m=\u001b[39m snake_agent\u001b[39m.\u001b[39mmodel(\u001b[39minput\u001b[39m)\n",
      "Cell \u001b[0;32mIn[5], line 27\u001b[0m, in \u001b[0;36m<listcomp>\u001b[0;34m(.0)\u001b[0m\n\u001b[1;32m     24\u001b[0m target \u001b[39m=\u001b[39m rewards \u001b[39m+\u001b[39m (\u001b[39m1.0\u001b[39m \u001b[39m-\u001b[39m dones) \u001b[39m*\u001b[39m snake_agent\u001b[39m.\u001b[39mdiscount_factor \u001b[39m*\u001b[39m max_next_qs\n\u001b[1;32m     26\u001b[0m \u001b[39m# then to compute the loss, we also need the Q-value of the current state\u001b[39;00m\n\u001b[0;32m---> 27\u001b[0m images \u001b[39m=\u001b[39m [snake_agent\u001b[39m.\u001b[39;49mget_image(state, body) \u001b[39mfor\u001b[39;00m state, body \u001b[39min\u001b[39;00m \u001b[39mzip\u001b[39m(states,bodies)]\n\u001b[1;32m     28\u001b[0m \u001b[39minput\u001b[39m \u001b[39m=\u001b[39m torch\u001b[39m.\u001b[39mas_tensor(np\u001b[39m.\u001b[39marray(images), dtype\u001b[39m=\u001b[39mtorch\u001b[39m.\u001b[39mfloat32)\u001b[39m.\u001b[39munsqueeze(\u001b[39m1\u001b[39m)\u001b[39m.\u001b[39mto(device)\n\u001b[1;32m     29\u001b[0m qs \u001b[39m=\u001b[39m snake_agent\u001b[39m.\u001b[39mmodel(\u001b[39minput\u001b[39m)\n",
      "File \u001b[0;32m~/uni/r_l/project/Deep-QNetworks/src_code/deep_qnetworks_vectorized.py:251\u001b[0m, in \u001b[0;36mSnakeAgent.get_image\u001b[0;34m(self, state, body)\u001b[0m\n\u001b[1;32m    249\u001b[0m image \u001b[39m=\u001b[39m np\u001b[39m.\u001b[39mzeros((\u001b[39mself\u001b[39m\u001b[39m.\u001b[39msize[\u001b[39m0\u001b[39m],\u001b[39mself\u001b[39m\u001b[39m.\u001b[39msize[\u001b[39m1\u001b[39m]))\n\u001b[1;32m    250\u001b[0m \u001b[39mif\u001b[39;00m state[\u001b[39m2\u001b[39m] \u001b[39m>\u001b[39m\u001b[39m=\u001b[39m \u001b[39m0\u001b[39m \u001b[39mand\u001b[39;00m state[\u001b[39m2\u001b[39m] \u001b[39m<\u001b[39m \u001b[39mself\u001b[39m\u001b[39m.\u001b[39msize[\u001b[39m0\u001b[39m] \u001b[39mand\u001b[39;00m state[\u001b[39m3\u001b[39m] \u001b[39m>\u001b[39m\u001b[39m=\u001b[39m \u001b[39m0\u001b[39m \u001b[39mand\u001b[39;00m state[\u001b[39m3\u001b[39m] \u001b[39m<\u001b[39m \u001b[39mself\u001b[39m\u001b[39m.\u001b[39msize[\u001b[39m1\u001b[39m]:\n\u001b[0;32m--> 251\u001b[0m     image[\u001b[39mint\u001b[39m(state[\u001b[39m2\u001b[39m]), \u001b[39mint\u001b[39;49m(state[\u001b[39m3\u001b[39;49m])] \u001b[39m=\u001b[39m \u001b[39m1\u001b[39m\n\u001b[1;32m    253\u001b[0m \u001b[39mif\u001b[39;00m state[\u001b[39m0\u001b[39m] \u001b[39m>\u001b[39m\u001b[39m=\u001b[39m \u001b[39m0\u001b[39m \u001b[39mand\u001b[39;00m state[\u001b[39m0\u001b[39m] \u001b[39m<\u001b[39m \u001b[39mself\u001b[39m\u001b[39m.\u001b[39msize[\u001b[39m0\u001b[39m] \u001b[39mand\u001b[39;00m state[\u001b[39m1\u001b[39m] \u001b[39m>\u001b[39m\u001b[39m=\u001b[39m \u001b[39m0\u001b[39m \u001b[39mand\u001b[39;00m state[\u001b[39m1\u001b[39m] \u001b[39m<\u001b[39m \u001b[39mself\u001b[39m\u001b[39m.\u001b[39msize[\u001b[39m1\u001b[39m]:\n\u001b[1;32m    254\u001b[0m     image[\u001b[39mint\u001b[39m(state[\u001b[39m0\u001b[39m]), \u001b[39mint\u001b[39m(state[\u001b[39m1\u001b[39m])] \u001b[39m=\u001b[39m \u001b[39m1\u001b[39m\n",
      "\u001b[0;31mKeyboardInterrupt\u001b[0m: "
     ]
    }
   ],
   "source": [
    "# initialize the buffer, with a size of 100000, when it is full, it will remove the oldest element\n",
    "buffer = ReplayBuffer(size = 100000, device=device) \n",
    "\n",
    "for episode in tqdm(range(max_num_episodes)):\n",
    "    env.reset()\n",
    "    episode_reward = 0\n",
    "\n",
    "    timestep = 0\n",
    "\n",
    "    while timestep < max_steps_per_episode:\n",
    "    \n",
    "        cur_frame += 1\n",
    " \n",
    "        observation = env._get_obs()\n",
    "        info = env._get_info()\n",
    "        body = info[\"body\"]\n",
    "        state = list(np.concatenate([observation[\"agent\"],observation[\"target\"]]))\n",
    "\n",
    "        action = snake_agent.get_action(state, body)\n",
    "\n",
    "        next_state, reward, done, new_body,_ = env.step(action)\n",
    "        new_body = new_body[\"body\"]\n",
    "        next_state = list(np.concatenate([next_state[\"agent\"],next_state[\"target\"]]))\n",
    "\n",
    "        episode_reward += reward\n",
    "                \n",
    "        # Save actions and states in replay buffer\n",
    "        buffer.add(state, action, reward, next_state, done, body, new_body)\n",
    "\n",
    "        cur_frame += 1\n",
    "\n",
    "        # Train neural network.\n",
    "        if len(buffer) > batch_size and cur_frame % update_after_actions == 0:\n",
    "            states, actions, rewards, next_states, dones, bodies, new_bodies = buffer.sample(batch_size)\n",
    "            loss = train_step(states, actions, rewards, next_states, dones, bodies, new_bodies, discount=0.99)\n",
    "        \n",
    "        # Update target network every update_target_network steps.\n",
    "        if cur_frame % update_target_network == 0:\n",
    "            snake_agent.model_target.load_state_dict(model.state_dict())\n",
    "\n",
    "        timestep += 1\n",
    "    \n",
    "    if len(last_100_ep_rewards) == 100:\n",
    "        last_100_ep_rewards = last_100_ep_rewards[1:]\n",
    "    last_100_ep_rewards.append(episode_reward)\n",
    "\n",
    "    running_reward = np.mean(last_100_ep_rewards)\n",
    "\n",
    "    if episode+1 % 100 == 0:\n",
    "        \"\"\" print(f'Episode {episode}/{max_num_episodes}. Epsilon: {epsilon:.3f}.'\n",
    "        f' Reward in last 100 episodes: {running_reward:.2f}') \"\"\"\n",
    "\n",
    "        # write on file current average reward\n",
    "        with open(filename, 'a') as f:\n",
    "            f.write(f'{episode},{running_reward:.2f}, {snake_agent.epsilon:.3f}\\n')\n",
    "\n",
    "    # Condition to consider the task solved\n",
    "    # e.g. to eat at least 6 consecutive food items\n",
    "    # without eating itself, considering also the moves to reach the food\n",
    "    if running_reward > 500: \n",
    "        print(\"Solved at episode {}!\".format(episode))\n",
    "        break"
   ]
  }
 ],
 "metadata": {
  "kernelspec": {
   "display_name": "deep-learn",
   "language": "python",
   "name": "python3"
  },
  "language_info": {
   "codemirror_mode": {
    "name": "ipython",
    "version": 3
   },
   "file_extension": ".py",
   "mimetype": "text/x-python",
   "name": "python",
   "nbconvert_exporter": "python",
   "pygments_lexer": "ipython3",
   "version": "3.10.12"
  },
  "orig_nbformat": 4
 },
 "nbformat": 4,
 "nbformat_minor": 2
}
