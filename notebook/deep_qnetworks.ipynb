{
 "cells": [
  {
   "attachments": {},
   "cell_type": "markdown",
   "metadata": {},
   "source": [
    "## Deep QNetworks\n",
    "\n",
    "Deep Qlearning with experience replay."
   ]
  },
  {
   "cell_type": "code",
   "execution_count": 1,
   "metadata": {},
   "outputs": [],
   "source": [
    "import sys\n",
    "sys.path.append('..')"
   ]
  },
  {
   "cell_type": "code",
   "execution_count": 3,
   "metadata": {},
   "outputs": [],
   "source": [
    "import torch\n",
    "import torch.nn as nn\n",
    "import torch.nn.functional as F\n",
    "import matplotlib.pyplot as plt\n",
    "import numpy as np\n",
    "import copy\n",
    "from src_code.buffers import ReplayBuffer\n",
    "from src_code.deep_qnetworks import DQN, SnakeEnv\n",
    "from tqdm import tqdm"
   ]
  },
  {
   "cell_type": "code",
   "execution_count": 4,
   "metadata": {},
   "outputs": [],
   "source": [
    "device = torch.device(\"cuda:0\" if torch.cuda.is_available() else \"cpu\")\n",
    "batch_size = 64  # Size of batch taken from replay buffer"
   ]
  },
  {
   "cell_type": "code",
   "execution_count": 5,
   "metadata": {},
   "outputs": [],
   "source": [
    "# initialize the environment \n",
    "Lx = 20\n",
    "Ly = 20\n",
    "\n",
    "env = SnakeEnv(Lx,Ly)\n",
    "\n",
    "# The first model makes the predictions for Q-values which are used to make a action.\n",
    "model = DQN(in_channels =1, num_actions=env.num_actions, input_size=env.Lx)\n",
    "# The target model makes the prediction of future rewards.\n",
    "# The weights of a target model get updated every 10000 steps thus when the\n",
    "# loss between the Q-values is calculated the target Q-value is stable.\n",
    "model_target = DQN(in_channels = 1, num_actions=env.num_actions, input_size=env.Lx)\n",
    "\n",
    "model.to(device)\n",
    "model_target.to(device)\n",
    "\n",
    "# In the Deepmind paper they use RMSProp however then Adam optimizer\n",
    "# improves training time\n",
    "optimizer = torch.optim.Adam(model.parameters(), lr=0.00025)\n",
    "# huber loss\n",
    "loss_function = nn.HuberLoss()\n",
    "\n",
    "num_actions = env.num_actions\n",
    "action_space = np.arange(num_actions)"
   ]
  },
  {
   "cell_type": "code",
   "execution_count": 6,
   "metadata": {},
   "outputs": [
    {
     "data": {
      "text/plain": [
       "<matplotlib.image.AxesImage at 0x2f33f9033a0>"
      ]
     },
     "execution_count": 6,
     "metadata": {},
     "output_type": "execute_result"
    },
    {
     "data": {
      "image/png": "[encoded data removed]",
      "text/plain": [
       "<Figure size 1000x700 with 1 Axes>"
      ]
     },
     "metadata": {},
     "output_type": "display_data"
    }
   ],
   "source": [
    "# brief check to see the snake moves as expected\n",
    "\n",
    "env.reset()\n",
    "S_new, body, reward, done = env.single_step([0,0,2,2],[], 2)\n",
    "#plt.imshow(env.get_image(S_new, body))\n",
    "\n",
    "S_new, body, reward, done = env.single_step(S_new, body, 2)\n",
    "S_new, body, reward, done = env.single_step(S_new, body, 0)\n",
    "S_new, body, reward, done = env.single_step(S_new, body, 0)\n",
    "S_new, body, reward, done = env.single_step(S_new, body, 3)\n",
    "\n",
    "plt.imshow(env.get_image(S_new, body))\n"
   ]
  },
  {
   "cell_type": "code",
   "execution_count": 7,
   "metadata": {},
   "outputs": [],
   "source": [
    "def train_step(states, actions, rewards, next_states, dones, discount, bodies, next_bodies):\n",
    "    \"\"\"\n",
    "    Perform a training iteration on a batch of data sampled from the experience\n",
    "    replay buffer.\n",
    "\n",
    "    Takes as input:\n",
    "        - states: a batch of states\n",
    "        - actions: a batch of actions\n",
    "        - rewards: a batch of rewards\n",
    "        - next_states: a batch of next states\n",
    "        - dones: a batch of dones\n",
    "        - discount: the discount factor, standard discount factor in RL to evaluate less long term rewards\n",
    "    \"\"\"\n",
    "\n",
    "    # compute targets for Q-learning\n",
    "    # the max Q-value of the next state is the target for the current state\n",
    "    # the image to be fed to the network is a grey scale image of the world\n",
    "    images = [env.get_image(next_state, next_body) for next_state, next_body in zip(next_states, next_bodies)]\n",
    "    input = torch.as_tensor(np.array(images), dtype=torch.float32).unsqueeze(1).to(device)\n",
    "    max_next_qs = model_target(input).max(-1).values\n",
    "\n",
    "    # transform into tensors and move to device\n",
    "    rewards = torch.as_tensor(rewards, dtype=torch.float32).to(device)\n",
    "    dones = torch.as_tensor(dones, dtype=torch.float32).to(device)\n",
    "\n",
    "\n",
    "    # if the next state is terminal, then the Q-value is just the reward\n",
    "    # otherwise, we add the discounted max Q-value of the next state\n",
    "    target = rewards + (1.0 - dones) * discount * max_next_qs\n",
    "\n",
    "    # then to compute the loss, we also need the Q-value of the current state\n",
    "    images = [env.get_image(state, body) for state, body in zip(states, bodies)]\n",
    "    input = torch.as_tensor(np.array(images), dtype=torch.float32).unsqueeze(1).to(device)\n",
    "    qs = model(input)\n",
    "\n",
    "    # for each state, we update ONLY the Q-value of the action that was taken\n",
    "    action_masks = F.one_hot(torch.as_tensor(np.array(actions)).long(), num_actions)\n",
    "    masked_qs = (action_masks * qs).sum(dim=-1)\n",
    "    loss = loss_function(masked_qs, target.detach())\n",
    "\n",
    "    optimizer.zero_grad()\n",
    "    loss.backward()\n",
    "    optimizer.step()\n",
    "    return loss"
   ]
  },
  {
   "cell_type": "code",
   "execution_count": 8,
   "metadata": {},
   "outputs": [
    {
     "name": "stderr",
     "output_type": "stream",
     "text": [
      "  0%|          | 0/10000 [00:00<?, ?it/s]"
     ]
    },
    {
     "name": "stderr",
     "output_type": "stream",
     "text": [
      " 47%|████▋     | 4676/10000 [5:46:01<6:33:58,  4.44s/it]     \n"
     ]
    },
    {
     "ename": "KeyboardInterrupt",
     "evalue": "",
     "output_type": "error",
     "traceback": [
      "\u001b[1;31m---------------------------------------------------------------------------\u001b[0m",
      "\u001b[1;31mKeyboardInterrupt\u001b[0m                         Traceback (most recent call last)",
      "Cell \u001b[1;32mIn[8], line 66\u001b[0m\n\u001b[0;32m     63\u001b[0m \u001b[39mwhile\u001b[39;00m timestep \u001b[39m<\u001b[39m max_steps_per_episode \u001b[39mand\u001b[39;00m \u001b[39mnot\u001b[39;00m done:\n\u001b[0;32m     65\u001b[0m     cur_frame \u001b[39m+\u001b[39m\u001b[39m=\u001b[39m \u001b[39m1\u001b[39m\n\u001b[1;32m---> 66\u001b[0m     action \u001b[39m=\u001b[39m env\u001b[39m.\u001b[39;49mselect_epsilon_greedy_action(model, state, body, epsilon)\n\u001b[0;32m     69\u001b[0m     next_state, next_body, reward, done \u001b[39m=\u001b[39m env\u001b[39m.\u001b[39msingle_step(state, body, action)\n\u001b[0;32m     70\u001b[0m     episode_reward \u001b[39m+\u001b[39m\u001b[39m=\u001b[39m reward\n",
      "File \u001b[1;32me:\\Documents\\DSSC\\progetto_RL\\Deep-QNetworks\\notebook\\..\\src_code\\deep_qnetworks.py:175\u001b[0m, in \u001b[0;36mSnakeEnv.select_epsilon_greedy_action\u001b[1;34m(self, model, state, body, epsilon)\u001b[0m\n\u001b[0;32m    172\u001b[0m \u001b[39m#logging.debug(f\"model.device: {model.device()}\")\u001b[39;00m\n\u001b[0;32m    173\u001b[0m \u001b[39minput\u001b[39m \u001b[39m=\u001b[39m torch\u001b[39m.\u001b[39mas_tensor(images, dtype\u001b[39m=\u001b[39mtorch\u001b[39m.\u001b[39mfloat32)\u001b[39m.\u001b[39munsqueeze(\u001b[39m0\u001b[39m)\u001b[39m.\u001b[39munsqueeze(\u001b[39m0\u001b[39m)\u001b[39m.\u001b[39mto(model\u001b[39m.\u001b[39mdevice())\n\u001b[1;32m--> 175\u001b[0m qs \u001b[39m=\u001b[39m model(\u001b[39minput\u001b[39;49m)\u001b[39m.\u001b[39mcpu()\u001b[39m.\u001b[39mdata\u001b[39m.\u001b[39mnumpy()\n\u001b[0;32m    176\u001b[0m \u001b[39mreturn\u001b[39;00m np\u001b[39m.\u001b[39margmax(qs)\n",
      "File \u001b[1;32mc:\\Users\\Erika\\AppData\\Local\\R-MINI~1\\envs\\deep-learn\\lib\\site-packages\\torch\\nn\\modules\\module.py:1110\u001b[0m, in \u001b[0;36mModule._call_impl\u001b[1;34m(self, *input, **kwargs)\u001b[0m\n\u001b[0;32m   1106\u001b[0m \u001b[39m# If we don't have any hooks, we want to skip the rest of the logic in\u001b[39;00m\n\u001b[0;32m   1107\u001b[0m \u001b[39m# this function, and just call forward.\u001b[39;00m\n\u001b[0;32m   1108\u001b[0m \u001b[39mif\u001b[39;00m \u001b[39mnot\u001b[39;00m (\u001b[39mself\u001b[39m\u001b[39m.\u001b[39m_backward_hooks \u001b[39mor\u001b[39;00m \u001b[39mself\u001b[39m\u001b[39m.\u001b[39m_forward_hooks \u001b[39mor\u001b[39;00m \u001b[39mself\u001b[39m\u001b[39m.\u001b[39m_forward_pre_hooks \u001b[39mor\u001b[39;00m _global_backward_hooks\n\u001b[0;32m   1109\u001b[0m         \u001b[39mor\u001b[39;00m _global_forward_hooks \u001b[39mor\u001b[39;00m _global_forward_pre_hooks):\n\u001b[1;32m-> 1110\u001b[0m     \u001b[39mreturn\u001b[39;00m forward_call(\u001b[39m*\u001b[39m\u001b[39minput\u001b[39m, \u001b[39m*\u001b[39m\u001b[39m*\u001b[39mkwargs)\n\u001b[0;32m   1111\u001b[0m \u001b[39m# Do not call functions when jit is used\u001b[39;00m\n\u001b[0;32m   1112\u001b[0m full_backward_hooks, non_full_backward_hooks \u001b[39m=\u001b[39m [], []\n",
      "File \u001b[1;32me:\\Documents\\DSSC\\progetto_RL\\Deep-QNetworks\\notebook\\..\\src_code\\deep_qnetworks.py:29\u001b[0m, in \u001b[0;36mDQN.forward\u001b[1;34m(self, states)\u001b[0m\n\u001b[0;32m     27\u001b[0m \u001b[39mdef\u001b[39;00m \u001b[39mforward\u001b[39m(\u001b[39mself\u001b[39m, states):\n\u001b[0;32m     28\u001b[0m     x \u001b[39m=\u001b[39m F\u001b[39m.\u001b[39mrelu(\u001b[39mself\u001b[39m\u001b[39m.\u001b[39mconv1(states))\n\u001b[1;32m---> 29\u001b[0m     x \u001b[39m=\u001b[39m F\u001b[39m.\u001b[39mrelu(\u001b[39mself\u001b[39;49m\u001b[39m.\u001b[39;49mconv2(x))\n\u001b[0;32m     30\u001b[0m     x \u001b[39m=\u001b[39m F\u001b[39m.\u001b[39mrelu(\u001b[39mself\u001b[39m\u001b[39m.\u001b[39mfc(x\u001b[39m.\u001b[39mview(x\u001b[39m.\u001b[39msize(\u001b[39m0\u001b[39m), \u001b[39m-\u001b[39m\u001b[39m1\u001b[39m)))\n\u001b[0;32m     31\u001b[0m     \u001b[39mreturn\u001b[39;00m \u001b[39mself\u001b[39m\u001b[39m.\u001b[39mout(x)\n",
      "File \u001b[1;32mc:\\Users\\Erika\\AppData\\Local\\R-MINI~1\\envs\\deep-learn\\lib\\site-packages\\torch\\nn\\modules\\module.py:1110\u001b[0m, in \u001b[0;36mModule._call_impl\u001b[1;34m(self, *input, **kwargs)\u001b[0m\n\u001b[0;32m   1106\u001b[0m \u001b[39m# If we don't have any hooks, we want to skip the rest of the logic in\u001b[39;00m\n\u001b[0;32m   1107\u001b[0m \u001b[39m# this function, and just call forward.\u001b[39;00m\n\u001b[0;32m   1108\u001b[0m \u001b[39mif\u001b[39;00m \u001b[39mnot\u001b[39;00m (\u001b[39mself\u001b[39m\u001b[39m.\u001b[39m_backward_hooks \u001b[39mor\u001b[39;00m \u001b[39mself\u001b[39m\u001b[39m.\u001b[39m_forward_hooks \u001b[39mor\u001b[39;00m \u001b[39mself\u001b[39m\u001b[39m.\u001b[39m_forward_pre_hooks \u001b[39mor\u001b[39;00m _global_backward_hooks\n\u001b[0;32m   1109\u001b[0m         \u001b[39mor\u001b[39;00m _global_forward_hooks \u001b[39mor\u001b[39;00m _global_forward_pre_hooks):\n\u001b[1;32m-> 1110\u001b[0m     \u001b[39mreturn\u001b[39;00m forward_call(\u001b[39m*\u001b[39m\u001b[39minput\u001b[39m, \u001b[39m*\u001b[39m\u001b[39m*\u001b[39mkwargs)\n\u001b[0;32m   1111\u001b[0m \u001b[39m# Do not call functions when jit is used\u001b[39;00m\n\u001b[0;32m   1112\u001b[0m full_backward_hooks, non_full_backward_hooks \u001b[39m=\u001b[39m [], []\n",
      "File \u001b[1;32mc:\\Users\\Erika\\AppData\\Local\\R-MINI~1\\envs\\deep-learn\\lib\\site-packages\\torch\\nn\\modules\\conv.py:447\u001b[0m, in \u001b[0;36mConv2d.forward\u001b[1;34m(self, input)\u001b[0m\n\u001b[0;32m    446\u001b[0m \u001b[39mdef\u001b[39;00m \u001b[39mforward\u001b[39m(\u001b[39mself\u001b[39m, \u001b[39minput\u001b[39m: Tensor) \u001b[39m-\u001b[39m\u001b[39m>\u001b[39m Tensor:\n\u001b[1;32m--> 447\u001b[0m     \u001b[39mreturn\u001b[39;00m \u001b[39mself\u001b[39;49m\u001b[39m.\u001b[39;49m_conv_forward(\u001b[39minput\u001b[39;49m, \u001b[39mself\u001b[39;49m\u001b[39m.\u001b[39;49mweight, \u001b[39mself\u001b[39;49m\u001b[39m.\u001b[39;49mbias)\n",
      "File \u001b[1;32mc:\\Users\\Erika\\AppData\\Local\\R-MINI~1\\envs\\deep-learn\\lib\\site-packages\\torch\\nn\\modules\\conv.py:443\u001b[0m, in \u001b[0;36mConv2d._conv_forward\u001b[1;34m(self, input, weight, bias)\u001b[0m\n\u001b[0;32m    439\u001b[0m \u001b[39mif\u001b[39;00m \u001b[39mself\u001b[39m\u001b[39m.\u001b[39mpadding_mode \u001b[39m!=\u001b[39m \u001b[39m'\u001b[39m\u001b[39mzeros\u001b[39m\u001b[39m'\u001b[39m:\n\u001b[0;32m    440\u001b[0m     \u001b[39mreturn\u001b[39;00m F\u001b[39m.\u001b[39mconv2d(F\u001b[39m.\u001b[39mpad(\u001b[39minput\u001b[39m, \u001b[39mself\u001b[39m\u001b[39m.\u001b[39m_reversed_padding_repeated_twice, mode\u001b[39m=\u001b[39m\u001b[39mself\u001b[39m\u001b[39m.\u001b[39mpadding_mode),\n\u001b[0;32m    441\u001b[0m                     weight, bias, \u001b[39mself\u001b[39m\u001b[39m.\u001b[39mstride,\n\u001b[0;32m    442\u001b[0m                     _pair(\u001b[39m0\u001b[39m), \u001b[39mself\u001b[39m\u001b[39m.\u001b[39mdilation, \u001b[39mself\u001b[39m\u001b[39m.\u001b[39mgroups)\n\u001b[1;32m--> 443\u001b[0m \u001b[39mreturn\u001b[39;00m F\u001b[39m.\u001b[39;49mconv2d(\u001b[39minput\u001b[39;49m, weight, bias, \u001b[39mself\u001b[39;49m\u001b[39m.\u001b[39;49mstride,\n\u001b[0;32m    444\u001b[0m                 \u001b[39mself\u001b[39;49m\u001b[39m.\u001b[39;49mpadding, \u001b[39mself\u001b[39;49m\u001b[39m.\u001b[39;49mdilation, \u001b[39mself\u001b[39;49m\u001b[39m.\u001b[39;49mgroups)\n",
      "\u001b[1;31mKeyboardInterrupt\u001b[0m: "
     ]
    }
   ],
   "source": [
    "# initialize the buffer, with a size of 100000, when it is full, it will remove the oldest element\n",
    "buffer = ReplayBuffer(size = 100000, device=device) \n",
    "\n",
    "cur_frame = 0\n",
    "last_100_ep_rewards = []\n",
    "last_100_ep_steps = []\n",
    "food_eaten = []\n",
    "\n",
    "max_steps_per_episode = 500\n",
    "max_num_episodes = 10000\n",
    "\n",
    "epsilon = 1\n",
    "epsilon_min = 0.1  # Minimum epsilon greedy parameter\n",
    "epsilon_max = 1.0  # Maximum epsilon greedy parameter\n",
    "discount = 0.99  # Discount factor for past rewards\n",
    "\n",
    "# Train the model after 4 actions\n",
    "update_after_actions = 4\n",
    "# How often to update the target network\n",
    "update_target_network = 10000\n",
    "\n",
    "# Number of frames to take random action and observe output\n",
    "epsilon_random_frames = 50000\n",
    "# Number of frames for exploration\n",
    "epsilon_greedy_frames = 1000000.0\n",
    "\n",
    "filename = 'dqn_results.txt'\n",
    "env.start = np.array([0,0])\n",
    "\n",
    "# write config to file\n",
    "with open(filename, 'w') as f:\n",
    "    f.write('Lx: ' + str(Lx) + '\\n')\n",
    "    f.write('max_steps_per_episode: ' + str(max_steps_per_episode) + '\\n')\n",
    "    f.write('max_num_episodes: ' + str(max_num_episodes) + '\\n')\n",
    "    f.write('epsilon_min: ' + str(epsilon_min) + '\\n')\n",
    "    f.write('epsilon_max: ' + str(epsilon_max) + '\\n')\n",
    "    f.write('update_after_actions: ' + str(update_after_actions) + '\\n')\n",
    "    f.write('update_target_network: ' + str(update_target_network) + '\\n')\n",
    "    f.write('epsilon_random_frames: ' + str(epsilon_random_frames) + '\\n')\n",
    "    f.write('epsilon_greedy_frames: ' + str(epsilon_greedy_frames) + '\\n')\n",
    "    f.write('episode,running_reward,epsilon,mean_steps,mean_food\\n')\n",
    "\n",
    "for episode in tqdm(range(max_num_episodes)):\n",
    "    env.reset()\n",
    "    episode_reward = 0\n",
    "\n",
    "    # state is a tuple of 4 values made of starting position and goal position\n",
    "    # start of an episode is always [0,0] for snake and a random position for goal\n",
    "    start_x = env.start[0]\n",
    "    start_y = env.start[1]\n",
    "    goal_x = np.random.randint(0,env.Lx)\n",
    "    goal_y = np.random.randint(0,env.Ly)\n",
    "\n",
    "    body = []\n",
    "    state = [start_x, start_y, goal_x, goal_y]\n",
    "\n",
    "\n",
    "    timestep = 0\n",
    "    food = 0\n",
    "    done = False\n",
    "    \n",
    "    \n",
    "    while timestep < max_steps_per_episode and not done:\n",
    "    \n",
    "        cur_frame += 1\n",
    "        action = env.select_epsilon_greedy_action(model, state, body, epsilon)\n",
    "        \n",
    "        \n",
    "        next_state, next_body, reward, done = env.single_step(state, body, action)\n",
    "        episode_reward += reward\n",
    "    \n",
    "\n",
    "        # Save actions and states in replay buffer\n",
    "        buffer.add(state, body, action, reward, next_state, next_body, done)\n",
    "        state = next_state\n",
    "        cur_frame += 1\n",
    "    \n",
    "        # Train neural network\n",
    "        if len(buffer) > batch_size and cur_frame % update_after_actions == 0:\n",
    "            states, bodies, actions, rewards, next_states, next_bodies, dones = buffer.sample(batch_size)\n",
    "            loss = train_step(states, actions, rewards, next_states, dones, discount, bodies, next_bodies)\n",
    "        \n",
    "        # Update target network every update_target_network steps\n",
    "        if cur_frame % update_target_network == 0:\n",
    "            model_target.load_state_dict(model.state_dict())\n",
    "\n",
    "        timestep += 1\n",
    "\n",
    "        \"\"\" epsilon -= (epsilon_max - epsilon_min) / epsilon_greedy_frames\n",
    "        epsilon = max(epsilon, epsilon_min) \"\"\"\n",
    "\n",
    "\n",
    "\n",
    "    if len(last_100_ep_rewards) == 100:\n",
    "        last_100_ep_rewards = last_100_ep_rewards[1:]\n",
    "        last_100_ep_steps = last_100_ep_steps[1:]\n",
    "        food_eaten = food_eaten[1:]\n",
    "\n",
    "    last_100_ep_rewards.append(episode_reward)\n",
    "    last_100_ep_steps.append(timestep)\n",
    "    food_eaten.append(food)\n",
    "\n",
    "    running_reward = np.mean(last_100_ep_rewards)\n",
    "    mean_steps = np.mean(last_100_ep_steps)\n",
    "    mean_food = np.mean(food_eaten)\n",
    "\n",
    "    if episode % 100 == 0:\n",
    "        # write on file current average reward\n",
    "        with open(filename, 'a') as f:\n",
    "            f.write(f'{episode},{running_reward:.2f}, {epsilon:.3f}, {mean_steps:.3f}, {mean_food}\\n')\n",
    "\n",
    "        epsilon -= 0.025\n",
    "        epsilon = max(epsilon, epsilon_min)\n",
    "    \n",
    "        \n",
    "    # Condition to consider the task solved\n",
    "    # e.g. to eat at least 6 consecutive food items\n",
    "    # without eating itself, considering also the moves to reach the food\n",
    "    if running_reward > 500: \n",
    "        print(\"Solved at episode {}!\".format(episode))\n",
    "        break"
   ]
  }
 ],
 "metadata": {
  "kernelspec": {
   "display_name": "deep-learn",
   "language": "python",
   "name": "python3"
  },
  "language_info": {
   "codemirror_mode": {
    "name": "ipython",
    "version": 3
   },
   "file_extension": ".py",
   "mimetype": "text/x-python",
   "name": "python",
   "nbconvert_exporter": "python",
   "pygments_lexer": "ipython3",
   "version": "3.9.5"
  },
  "orig_nbformat": 4
 },
 "nbformat": 4,
 "nbformat_minor": 2
}
