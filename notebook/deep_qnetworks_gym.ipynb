{
 "cells": [
  {
   "attachments": {},
   "cell_type": "markdown",
   "metadata": {},
   "source": [
    "## Deep QNetworks\n",
    "\n",
    "Deep Qlearning with experience replay."
   ]
  },
  {
   "cell_type": "markdown",
   "metadata": {},
   "source": [
    "things to do:\n",
    "- add pickle of few metrics\n",
    "- try to speed up\n",
    "- adding visualizing the policy\n"
   ]
  },
  {
   "cell_type": "code",
   "execution_count": 9,
   "metadata": {},
   "outputs": [],
   "source": [
    "import sys\n",
    "sys.path.insert(0, '/home/alexserra98/uni/r_l/project/Deep-QNetworks/')"
   ]
  },
  {
   "cell_type": "code",
   "execution_count": 10,
   "metadata": {},
   "outputs": [],
   "source": [
    "import torch\n",
    "import torch.nn as nn\n",
    "import torch.nn.functional as F\n",
    "import matplotlib.pyplot as plt\n",
    "import numpy as np\n",
    "import copy\n",
    "from src_code.qnetworks import ReplayBuffer\n",
    "from src_code.buffers import SeqReplayBuffer\n",
    "from src_code.deep_qnetworks import DQN , SnakeEnv, SnakeAgent\n",
    "from tqdm import tqdm\n",
    "import gymnasium as gym\n",
    "from gymnasium import spaces\n",
    "import pickle\n",
    "from src_code.train import train_step"
   ]
  },
  {
   "cell_type": "code",
   "execution_count": 11,
   "metadata": {},
   "outputs": [],
   "source": [
    "device = torch.device(\"cuda:0\" if torch.cuda.is_available() else \"cpu\")\n",
    "batch_size = 32  # Size of batch taken from replay buffer"
   ]
  },
  {
   "cell_type": "markdown",
   "metadata": {},
   "source": [
    "## Set up"
   ]
  },
  {
   "cell_type": "code",
   "execution_count": 12,
   "metadata": {},
   "outputs": [],
   "source": [
    "NUM_ENVS = 1\n",
    "# initialize the environment \n",
    "Lx = 10\n",
    "Ly = 10\n",
    "\n",
    "env = SnakeEnv(size =(Lx,Ly))\n",
    "\n",
    "\n",
    "# Initialize the models\n",
    "model = DQN(in_channels =1, num_actions=env.action_space.n, input_size=env.Lx)\n",
    "# The target model makes the prediction of future rewards.\n",
    "# The weights of a target model get updated every 10000 steps thus when the\n",
    "# loss between the Q-values is calculated the target Q-value is stable.\n",
    "model_target = DQN(in_channels = 1, num_actions=env.action_space.n, input_size=env.Lx)\n",
    "\n",
    "model.to(device)\n",
    "model_target.to(device)\n",
    "\n",
    "# In the Deepmind paper they use RMSProp however then Adam optimizer\n",
    "# improves training time\n",
    "optimizer = torch.optim.Adam(model.parameters(), lr=0.00025)\n",
    "# huber loss\n",
    "loss_function = nn.HuberLoss()\n",
    "\n",
    "# Train hyperparameters\n",
    "\n",
    "cur_frame = 0\n",
    "last_100_ep_rewards = []\n",
    "max_steps_per_episode = 200\n",
    "max_num_episodes = 10000\n",
    "deque_size = 100\n",
    "env = gym.wrappers.RecordEpisodeStatistics(env, deque_size=deque_size)\n",
    "\n",
    "# Train the model after 4 actions\n",
    "update_after_actions = 4\n",
    "# How often to update the target network\n",
    "update_target_network = 10\n",
    "\n",
    "# Number of frames to take random action and observe output\n",
    "epsilon_random_frames = 50000\n",
    "# Number of frames for exploration\n",
    "epsilon_greedy_frames = 100000.0\n",
    "\n",
    "filename = 'dqn_results.txt'\n",
    "\n",
    "# Initialize the agent\n",
    "num_actions = env.action_space.n\n",
    "#action_space = spaces.Discrete(4)\n",
    "learning_rate = 0.01\n",
    "initial_epsilon = 1.0\n",
    "\n",
    "final_epsilon = 0.1\n",
    "epsilon_decay = (initial_epsilon - final_epsilon) / epsilon_greedy_frames #(max_num_episodes / 2) \n",
    "snake_agent = SnakeAgent(learning_rate, initial_epsilon, epsilon_decay, final_epsilon, num_actions,  env, (Lx,Ly), 0.95, NUM_ENVS)"
   ]
  },
  {
   "cell_type": "markdown",
   "metadata": {},
   "source": [
    "## Train"
   ]
  },
  {
   "cell_type": "code",
   "execution_count": 13,
   "metadata": {},
   "outputs": [],
   "source": [
    "replay = {}"
   ]
  },
  {
   "cell_type": "code",
   "execution_count": 14,
   "metadata": {},
   "outputs": [
    {
     "name": "stderr",
     "output_type": "stream",
     "text": [
      "  0%|          | 0/10000 [00:00<?, ?it/s]"
     ]
    },
    {
     "name": "stdout",
     "output_type": "stream",
     "text": [
      "reset {'agent': array([0, 0]), 'target': array([3, 1])}, {'body': [], 'eaten_fruits': 0, 'done': False}, False\n",
      "reset {'agent': array([0, 0]), 'target': array([0, 7])}, {'body': [], 'eaten_fruits': 0, 'done': False}, False\n"
     ]
    },
    {
     "name": "stderr",
     "output_type": "stream",
     "text": [
      "  0%|          | 2/10000 [00:00<56:27,  2.95it/s]"
     ]
    },
    {
     "name": "stdout",
     "output_type": "stream",
     "text": [
      "reset {'agent': array([0, 0]), 'target': array([1, 4])}, {'body': [], 'eaten_fruits': 0, 'done': False}, False\n"
     ]
    },
    {
     "name": "stderr",
     "output_type": "stream",
     "text": [
      "  0%|          | 3/10000 [00:02<2:57:04,  1.06s/it]"
     ]
    },
    {
     "name": "stdout",
     "output_type": "stream",
     "text": [
      "reset {'agent': array([0, 0]), 'target': array([7, 1])}, {'body': [], 'eaten_fruits': 0, 'done': False}, False\n"
     ]
    },
    {
     "name": "stderr",
     "output_type": "stream",
     "text": [
      "  0%|          | 4/10000 [00:03<2:45:52,  1.00it/s]"
     ]
    },
    {
     "name": "stdout",
     "output_type": "stream",
     "text": [
      "reset {'agent': array([0, 0]), 'target': array([5, 8])}, {'body': [], 'eaten_fruits': 0, 'done': False}, False\n"
     ]
    },
    {
     "name": "stderr",
     "output_type": "stream",
     "text": [
      "  0%|          | 5/10000 [00:05<3:25:47,  1.24s/it]"
     ]
    },
    {
     "name": "stdout",
     "output_type": "stream",
     "text": [
      "reset {'agent': array([0, 0]), 'target': array([2, 1])}, {'body': [], 'eaten_fruits': 0, 'done': False}, False\n"
     ]
    },
    {
     "name": "stderr",
     "output_type": "stream",
     "text": [
      "  0%|          | 6/10000 [00:12<9:01:32,  3.25s/it]"
     ]
    },
    {
     "name": "stdout",
     "output_type": "stream",
     "text": [
      "reset {'agent': array([0, 0]), 'target': array([9, 9])}, {'body': [], 'eaten_fruits': 0, 'done': False}, False\n"
     ]
    },
    {
     "name": "stderr",
     "output_type": "stream",
     "text": [
      "  0%|          | 7/10000 [00:13<6:43:59,  2.43s/it]"
     ]
    },
    {
     "name": "stdout",
     "output_type": "stream",
     "text": [
      "reset {'agent': array([0, 0]), 'target': array([0, 8])}, {'body': [], 'eaten_fruits': 0, 'done': False}, False\n"
     ]
    },
    {
     "name": "stderr",
     "output_type": "stream",
     "text": [
      "  0%|          | 8/10000 [00:14<5:19:49,  1.92s/it]"
     ]
    },
    {
     "name": "stdout",
     "output_type": "stream",
     "text": [
      "reset {'agent': array([0, 0]), 'target': array([2, 3])}, {'body': [], 'eaten_fruits': 0, 'done': False}, False\n"
     ]
    },
    {
     "name": "stderr",
     "output_type": "stream",
     "text": [
      "  0%|          | 9/10000 [00:18<7:03:22,  2.54s/it]"
     ]
    },
    {
     "name": "stdout",
     "output_type": "stream",
     "text": [
      "reset {'agent': array([0, 0]), 'target': array([2, 9])}, {'body': [], 'eaten_fruits': 0, 'done': False}, False\n"
     ]
    },
    {
     "name": "stderr",
     "output_type": "stream",
     "text": [
      "  0%|          | 9/10000 [00:20<6:21:41,  2.29s/it]\n"
     ]
    },
    {
     "ename": "KeyboardInterrupt",
     "evalue": "",
     "output_type": "error",
     "traceback": [
      "\u001b[0;31m---------------------------------------------------------------------------\u001b[0m",
      "\u001b[0;31mKeyboardInterrupt\u001b[0m                         Traceback (most recent call last)",
      "Cell \u001b[0;32mIn[14], line 35\u001b[0m\n\u001b[1;32m     33\u001b[0m \u001b[39mif\u001b[39;00m \u001b[39mlen\u001b[39m(buffer) \u001b[39m>\u001b[39m batch_size \u001b[39mand\u001b[39;00m cur_frame \u001b[39m%\u001b[39m update_after_actions \u001b[39m==\u001b[39m \u001b[39m0\u001b[39m:\n\u001b[1;32m     34\u001b[0m     states, actions, rewards, next_states, dones, bodies, new_bodies \u001b[39m=\u001b[39m buffer\u001b[39m.\u001b[39msample(batch_size)\n\u001b[0;32m---> 35\u001b[0m     loss \u001b[39m=\u001b[39m train_step(states, actions, rewards, next_states, dones, bodies, new_bodies, snake_agent, loss_function, optimizer, device)\n\u001b[1;32m     37\u001b[0m \u001b[39m# Update target network every update_target_network steps.\u001b[39;00m\n\u001b[1;32m     38\u001b[0m \u001b[39mif\u001b[39;00m cur_frame \u001b[39m%\u001b[39m update_target_network \u001b[39m==\u001b[39m \u001b[39m0\u001b[39m:\n",
      "File \u001b[0;32m~/uni/r_l/project/Deep-QNetworks/src_code/train.py:24\u001b[0m, in \u001b[0;36mtrain_step\u001b[0;34m(states, actions, rewards, next_states, dones, bodies, new_bodies, snake_agent, loss_function, optimizer, device)\u001b[0m\n\u001b[1;32m      8\u001b[0m \u001b[39m\u001b[39m\u001b[39m\"\"\"\u001b[39;00m\n\u001b[1;32m      9\u001b[0m \u001b[39mPerform a training iteration on a batch of data sampled from the experience\u001b[39;00m\n\u001b[1;32m     10\u001b[0m \u001b[39mreplay buffer.\u001b[39;00m\n\u001b[0;32m   (...)\u001b[0m\n\u001b[1;32m     18\u001b[0m \u001b[39m    - discount: the discount factor, standard discount factor in RL to evaluate less long term rewards\u001b[39;00m\n\u001b[1;32m     19\u001b[0m \u001b[39m\"\"\"\u001b[39;00m\n\u001b[1;32m     21\u001b[0m \u001b[39m# compute targets for Q-learning\u001b[39;00m\n\u001b[1;32m     22\u001b[0m \u001b[39m# the max Q-value of the next state is the target for the current state\u001b[39;00m\n\u001b[1;32m     23\u001b[0m \u001b[39m# the image to be fed to the network is a grey scale image of the world\u001b[39;00m\n\u001b[0;32m---> 24\u001b[0m images \u001b[39m=\u001b[39m [snake_agent\u001b[39m.\u001b[39mget_image(next_state, new_body) \u001b[39mfor\u001b[39;00m next_state, new_body \u001b[39min\u001b[39;00m \u001b[39mzip\u001b[39m(next_states,new_bodies)]\n\u001b[1;32m     25\u001b[0m \u001b[39minput\u001b[39m \u001b[39m=\u001b[39m torch\u001b[39m.\u001b[39mas_tensor(np\u001b[39m.\u001b[39marray(images), dtype\u001b[39m=\u001b[39mtorch\u001b[39m.\u001b[39mfloat32)\u001b[39m.\u001b[39munsqueeze(\u001b[39m1\u001b[39m)\u001b[39m.\u001b[39mto(device)\n\u001b[1;32m     26\u001b[0m max_next_qs \u001b[39m=\u001b[39m snake_agent\u001b[39m.\u001b[39mmodel_target(\u001b[39minput\u001b[39m)\u001b[39m.\u001b[39mmax(\u001b[39m-\u001b[39m\u001b[39m1\u001b[39m)\u001b[39m.\u001b[39mvalues\n",
      "File \u001b[0;32m~/uni/r_l/project/Deep-QNetworks/src_code/train.py:24\u001b[0m, in \u001b[0;36m<listcomp>\u001b[0;34m(.0)\u001b[0m\n\u001b[1;32m      8\u001b[0m \u001b[39m\u001b[39m\u001b[39m\"\"\"\u001b[39;00m\n\u001b[1;32m      9\u001b[0m \u001b[39mPerform a training iteration on a batch of data sampled from the experience\u001b[39;00m\n\u001b[1;32m     10\u001b[0m \u001b[39mreplay buffer.\u001b[39;00m\n\u001b[0;32m   (...)\u001b[0m\n\u001b[1;32m     18\u001b[0m \u001b[39m    - discount: the discount factor, standard discount factor in RL to evaluate less long term rewards\u001b[39;00m\n\u001b[1;32m     19\u001b[0m \u001b[39m\"\"\"\u001b[39;00m\n\u001b[1;32m     21\u001b[0m \u001b[39m# compute targets for Q-learning\u001b[39;00m\n\u001b[1;32m     22\u001b[0m \u001b[39m# the max Q-value of the next state is the target for the current state\u001b[39;00m\n\u001b[1;32m     23\u001b[0m \u001b[39m# the image to be fed to the network is a grey scale image of the world\u001b[39;00m\n\u001b[0;32m---> 24\u001b[0m images \u001b[39m=\u001b[39m [snake_agent\u001b[39m.\u001b[39;49mget_image(next_state, new_body) \u001b[39mfor\u001b[39;00m next_state, new_body \u001b[39min\u001b[39;00m \u001b[39mzip\u001b[39m(next_states,new_bodies)]\n\u001b[1;32m     25\u001b[0m \u001b[39minput\u001b[39m \u001b[39m=\u001b[39m torch\u001b[39m.\u001b[39mas_tensor(np\u001b[39m.\u001b[39marray(images), dtype\u001b[39m=\u001b[39mtorch\u001b[39m.\u001b[39mfloat32)\u001b[39m.\u001b[39munsqueeze(\u001b[39m1\u001b[39m)\u001b[39m.\u001b[39mto(device)\n\u001b[1;32m     26\u001b[0m max_next_qs \u001b[39m=\u001b[39m snake_agent\u001b[39m.\u001b[39mmodel_target(\u001b[39minput\u001b[39m)\u001b[39m.\u001b[39mmax(\u001b[39m-\u001b[39m\u001b[39m1\u001b[39m)\u001b[39m.\u001b[39mvalues\n",
      "File \u001b[0;32m~/uni/r_l/project/Deep-QNetworks/src_code/deep_qnetworks.py:373\u001b[0m, in \u001b[0;36mSnakeAgent.get_image\u001b[0;34m(self, state, body)\u001b[0m\n\u001b[1;32m    370\u001b[0m     image[\u001b[39mint\u001b[39m(state[\u001b[39m2\u001b[39m]), \u001b[39mint\u001b[39m(state[\u001b[39m3\u001b[39m])] \u001b[39m=\u001b[39m \u001b[39m.5\u001b[39m\n\u001b[1;32m    372\u001b[0m \u001b[39mif\u001b[39;00m state[\u001b[39m0\u001b[39m] \u001b[39m>\u001b[39m\u001b[39m=\u001b[39m \u001b[39m0\u001b[39m \u001b[39mand\u001b[39;00m state[\u001b[39m0\u001b[39m] \u001b[39m<\u001b[39m \u001b[39mself\u001b[39m\u001b[39m.\u001b[39msize[\u001b[39m0\u001b[39m] \u001b[39mand\u001b[39;00m state[\u001b[39m1\u001b[39m] \u001b[39m>\u001b[39m\u001b[39m=\u001b[39m \u001b[39m0\u001b[39m \u001b[39mand\u001b[39;00m state[\u001b[39m1\u001b[39m] \u001b[39m<\u001b[39m \u001b[39mself\u001b[39m\u001b[39m.\u001b[39msize[\u001b[39m1\u001b[39m]:\n\u001b[0;32m--> 373\u001b[0m     image[\u001b[39mint\u001b[39;49m(state[\u001b[39m0\u001b[39;49m]), \u001b[39mint\u001b[39m(state[\u001b[39m1\u001b[39m])] \u001b[39m=\u001b[39m \u001b[39m1\u001b[39m\n\u001b[1;32m    374\u001b[0m \u001b[39melse\u001b[39;00m:\n\u001b[1;32m    375\u001b[0m     \u001b[39m# if the agent is out of the world, it is dead and so we cancel the food as well\u001b[39;00m\n\u001b[1;32m    376\u001b[0m     \u001b[39m# this check is just for safety reasons, if we allow the snake to go through the walls\u001b[39;00m\n\u001b[1;32m    377\u001b[0m     \u001b[39m# this should never happen\u001b[39;00m\n\u001b[1;32m    378\u001b[0m     image[\u001b[39mint\u001b[39m(state[\u001b[39m2\u001b[39m]), \u001b[39mint\u001b[39m(state[\u001b[39m3\u001b[39m])] \u001b[39m=\u001b[39m \u001b[39m0\u001b[39m \n",
      "\u001b[0;31mKeyboardInterrupt\u001b[0m: "
     ]
    }
   ],
   "source": [
    "# initialize the buffer, with a size of 100000, when it is full, it will remove the oldest element\n",
    "buffer = SeqReplayBuffer(size = 100000, device=device) \n",
    "\n",
    "for episode in tqdm(range(max_num_episodes)):\n",
    "    obs, info = copy.deepcopy(env.reset())\n",
    "    terminated = False\n",
    "    print(f'reset {obs}, {info}, {terminated}')\n",
    "    timestep = 0\n",
    "    replay[episode] = []\n",
    "    while not terminated:\n",
    "        \n",
    "        cur_frame += 1\n",
    "        #print(f'before {obs}, {info}, {terminated}')\n",
    "        action = snake_agent.get_action(obs, info)\n",
    "        new_obs, reward, done, _, new_info = env.step(action)\n",
    "        #print(f'after {obs}, {info}, {terminated}')\n",
    "        terminated = done or (timestep > max_steps_per_episode)\n",
    "                \n",
    "        # Save actions and states in replay buffer\n",
    "        buffer.add(obs, action, reward, new_obs, done, info, new_info)\n",
    "        \n",
    "        replay[episode].append((obs, info))\n",
    "\n",
    "        #print(f'{obs=},{new_obs=},')\n",
    "        # Update obs and info\n",
    "        obs = copy.deepcopy(new_obs)\n",
    "        info = copy.deepcopy(new_info)\n",
    "        \n",
    "\n",
    "        cur_frame += 1\n",
    "\n",
    "        # Train neural network.\n",
    "        if len(buffer) > batch_size and cur_frame % update_after_actions == 0:\n",
    "            states, actions, rewards, next_states, dones, bodies, new_bodies = buffer.sample(batch_size)\n",
    "            loss = train_step(states, actions, rewards, next_states, dones, bodies, new_bodies, snake_agent, loss_function, optimizer, device)\n",
    "        \n",
    "        # Update target network every update_target_network steps.\n",
    "        if cur_frame % update_target_network == 0:\n",
    "            snake_agent.model_target.load_state_dict(model.state_dict())\n",
    "        if timestep > epsilon_random_frames:\n",
    "            snake_agent.decay_epsilon()\n",
    "        timestep += 1\n",
    "\n",
    "\n",
    "    snake_agent.decay_epsilon()\n",
    "\n",
    "\n",
    "    if ((episode+1) % 100) == 0:\n",
    "        # write on file current average reward\n",
    "        metrics ={'return_queue': env.return_queue, 'length_queue': env.length_queue, 'training_error': snake_agent.training_error,\n",
    "                  'epsilon': snake_agent.epsilon}\n",
    "        with open('metrics.pickle', 'wb') as handle:\n",
    "            pickle.dump(metrics, handle)        \n",
    "        # do we want to save it every 100 episodes? dunno it's up to you\n",
    "        torch.save(snake_agent.model.state_dict(), 'model.pt')\n",
    "\n",
    "\n",
    "    # Condition to consider the task solved\n",
    "    if np.mean(env.return_queue) > 500: \n",
    "        print(\"Solved at episode {}!\".format(episode))\n",
    "        break"
   ]
  },
  {
   "cell_type": "code",
   "execution_count": null,
   "metadata": {},
   "outputs": [
    {
     "name": "stdout",
     "output_type": "stream",
     "text": [
      "Initializing pygame\n"
     ]
    }
   ],
   "source": [
    "flag = True\n",
    "i = 0\n",
    "while flag:\n",
    "    env.set_obs(replay[3][i][0])\n",
    "    env.set_info(replay[3][i][1])\n",
    "    env.render()\n",
    "    i += 1\n",
    "    input(\"press enter to continue, q to quit\")\n",
    "    if input() == 'q':\n",
    "        flag = False\n",
    "    "
   ]
  },
  {
   "cell_type": "code",
   "execution_count": null,
   "metadata": {},
   "outputs": [
    {
     "ename": "ValueError",
     "evalue": "v cannot be empty",
     "output_type": "error",
     "traceback": [
      "\u001b[0;31m---------------------------------------------------------------------------\u001b[0m",
      "\u001b[0;31mValueError\u001b[0m                                Traceback (most recent call last)",
      "Cell \u001b[0;32mIn[10], line 6\u001b[0m\n\u001b[1;32m      3\u001b[0m axs[\u001b[39m0\u001b[39m]\u001b[39m.\u001b[39mset_title(\u001b[39m\"\u001b[39m\u001b[39mEpisode rewards\u001b[39m\u001b[39m\"\u001b[39m)\n\u001b[1;32m      4\u001b[0m \u001b[39m# compute and assign a rolling average of the data to provide a smoother graph\u001b[39;00m\n\u001b[1;32m      5\u001b[0m reward_moving_average \u001b[39m=\u001b[39m (\n\u001b[0;32m----> 6\u001b[0m     np\u001b[39m.\u001b[39;49mconvolve(\n\u001b[1;32m      7\u001b[0m         np\u001b[39m.\u001b[39;49marray(env\u001b[39m.\u001b[39;49mreturn_queue)\u001b[39m.\u001b[39;49mflatten(), np\u001b[39m.\u001b[39;49mones(rolling_length), mode\u001b[39m=\u001b[39;49m\u001b[39m\"\u001b[39;49m\u001b[39mvalid\u001b[39;49m\u001b[39m\"\u001b[39;49m\n\u001b[1;32m      8\u001b[0m     )\n\u001b[1;32m      9\u001b[0m     \u001b[39m/\u001b[39m rolling_length\n\u001b[1;32m     10\u001b[0m )\n\u001b[1;32m     11\u001b[0m axs[\u001b[39m0\u001b[39m]\u001b[39m.\u001b[39mplot(\u001b[39mrange\u001b[39m(\u001b[39mlen\u001b[39m(reward_moving_average)), reward_moving_average)\n\u001b[1;32m     12\u001b[0m axs[\u001b[39m1\u001b[39m]\u001b[39m.\u001b[39mset_title(\u001b[39m\"\u001b[39m\u001b[39mEpisode lengths\u001b[39m\u001b[39m\"\u001b[39m)\n",
      "File \u001b[0;32m~/miniconda3/envs/myenv/lib/python3.10/site-packages/numpy/core/numeric.py:833\u001b[0m, in \u001b[0;36mconvolve\u001b[0;34m(a, v, mode)\u001b[0m\n\u001b[1;32m    831\u001b[0m     \u001b[39mraise\u001b[39;00m \u001b[39mValueError\u001b[39;00m(\u001b[39m'\u001b[39m\u001b[39ma cannot be empty\u001b[39m\u001b[39m'\u001b[39m)\n\u001b[1;32m    832\u001b[0m \u001b[39mif\u001b[39;00m \u001b[39mlen\u001b[39m(v) \u001b[39m==\u001b[39m \u001b[39m0\u001b[39m:\n\u001b[0;32m--> 833\u001b[0m     \u001b[39mraise\u001b[39;00m \u001b[39mValueError\u001b[39;00m(\u001b[39m'\u001b[39m\u001b[39mv cannot be empty\u001b[39m\u001b[39m'\u001b[39m)\n\u001b[1;32m    834\u001b[0m \u001b[39mreturn\u001b[39;00m multiarray\u001b[39m.\u001b[39mcorrelate(a, v[::\u001b[39m-\u001b[39m\u001b[39m1\u001b[39m], mode)\n",
      "\u001b[0;31mValueError\u001b[0m: v cannot be empty"
     ]
    },
    {
     "data": {
      "image/png": "[encoded data removed]",
      "text/plain": [
       "<Figure size 1200x500 with 3 Axes>"
      ]
     },
     "metadata": {},
     "output_type": "display_data"
    }
   ],
   "source": [
    "rolling_length = 500\n",
    "fig, axs = plt.subplots(ncols=3, figsize=(12, 5))\n",
    "axs[0].set_title(\"Episode rewards\")\n",
    "# compute and assign a rolling average of the data to provide a smoother graph\n",
    "reward_moving_average = (\n",
    "    np.convolve(\n",
    "        np.array(env.return_queue).flatten(), np.ones(rolling_length), mode=\"valid\"\n",
    "    )\n",
    "    / rolling_length\n",
    ")\n",
    "axs[0].plot(range(len(reward_moving_average)), reward_moving_average)\n",
    "axs[1].set_title(\"Episode lengths\")\n",
    "length_moving_average = (\n",
    "    np.convolve(\n",
    "        np.array(env.length_queue).flatten(), np.ones(rolling_length), mode=\"same\"\n",
    "    )\n",
    "    / rolling_length\n",
    ")\n",
    "axs[1].plot(range(len(length_moving_average)), length_moving_average)\n",
    "axs[2].set_title(\"Training Error\")\n",
    "training_error_moving_average = (\n",
    "    np.convolve(np.array(snake_agent.training_error), np.ones(rolling_length), mode=\"same\")\n",
    "    / rolling_length\n",
    ")\n",
    "axs[2].plot(range(len(training_error_moving_average)), training_error_moving_average)\n",
    "plt.tight_layout()\n",
    "plt.show()"
   ]
  }
 ],
 "metadata": {
  "kernelspec": {
   "display_name": "deep-learn",
   "language": "python",
   "name": "python3"
  },
  "language_info": {
   "codemirror_mode": {
    "name": "ipython",
    "version": 3
   },
   "file_extension": ".py",
   "mimetype": "text/x-python",
   "name": "python",
   "nbconvert_exporter": "python",
   "pygments_lexer": "ipython3",
   "version": "3.10.12"
  },
  "orig_nbformat": 4
 },
 "nbformat": 4,
 "nbformat_minor": 2
}
