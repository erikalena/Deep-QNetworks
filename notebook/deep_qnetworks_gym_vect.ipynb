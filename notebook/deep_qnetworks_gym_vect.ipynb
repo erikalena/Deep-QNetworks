{
 "cells": [
  {
   "attachments": {},
   "cell_type": "markdown",
   "metadata": {},
   "source": [
    "## Deep QNetworks\n",
    "\n",
    "Deep Qlearning with experience replay."
   ]
  },
  {
   "cell_type": "markdown",
   "metadata": {},
   "source": [
    "things to do:\n",
    "- correct render methods in env\n",
    "- provide info about body in buffer and as output of step\n",
    "- create separate function for render and epsilon_greedy (use get_obs for all the info you need)\n",
    "- merge these functions and some rules of the game in a separate class Agent\n"
   ]
  },
  {
   "cell_type": "code",
   "execution_count": 1,
   "metadata": {},
   "outputs": [],
   "source": [
    "import sys\n",
    "sys.path.insert(0, '/home/alexserra98/uni/r_l/project/Deep-QNetworks/src_code')"
   ]
  },
  {
   "cell_type": "code",
   "execution_count": 2,
   "metadata": {},
   "outputs": [],
   "source": [
    "import torch\n",
    "import torch.nn as nn\n",
    "import torch.nn.functional as F\n",
    "import matplotlib.pyplot as plt\n",
    "import numpy as np\n",
    "import copy\n",
    "from qnetworks import ReplayBuffer\n",
    "from buffers import VecReplayBuffer\n",
    "from deep_qnetworks import DQN , SnakeEnv, SnakeAgent\n",
    "from tqdm import tqdm\n",
    "import gymnasium as gym\n",
    "from gymnasium import spaces\n",
    "import pickle"
   ]
  },
  {
   "cell_type": "code",
   "execution_count": 3,
   "metadata": {},
   "outputs": [],
   "source": [
    "device = torch.device(\"cuda:0\" if torch.cuda.is_available() else \"cpu\")\n",
    "batch_size = 32  # Size of batch taken from replay buffer"
   ]
  },
  {
   "cell_type": "code",
   "execution_count": 4,
   "metadata": {},
   "outputs": [],
   "source": [
    "NUM_ENVS = 3"
   ]
  },
  {
   "cell_type": "markdown",
   "metadata": {},
   "source": [
    "## Set up"
   ]
  },
  {
   "cell_type": "code",
   "execution_count": 18,
   "metadata": {},
   "outputs": [],
   "source": [
    "# initialize the environment \n",
    "Lx = 10\n",
    "Ly = 10\n",
    "\n",
    "envs =  gym.vector.AsyncVectorEnv([\n",
    "    lambda: SnakeEnv(size =(Lx,Ly))\n",
    "    for _ in range(NUM_ENVS)\n",
    "], context='fork')\n",
    "\n",
    "# Initialize the models\n",
    "model = DQN(in_channels =1, num_actions=envs.single_action_space.n, input_size=envs.single_observation_space.spaces[\"agent\"].high[0])\n",
    "# The target model makes the prediction of future rewards.\n",
    "# The weights of a target model get updated every 10000 steps thus when the\n",
    "# loss between the Q-values is calculated the target Q-value is stable.\n",
    "model_target = DQN(in_channels = 1, num_actions=envs.single_action_space.n, input_size=envs.single_observation_space.spaces[\"agent\"].high[0])\n",
    "\n",
    "model.to(device)\n",
    "model_target.to(device)\n",
    "\n",
    "# In the Deepmind paper they use RMSProp however then Adam optimizer\n",
    "# improves training time\n",
    "optimizer = torch.optim.Adam(model.parameters(), lr=0.00025)\n",
    "# huber loss\n",
    "loss_function = nn.HuberLoss()\n",
    "\n",
    "# Train hyperparameters\n",
    "\n",
    "cur_frame = 0\n",
    "last_100_ep_rewards = []\n",
    "max_steps_per_episode = 100\n",
    "max_num_episodes = 100\n",
    "envs = gym.wrappers.RecordEpisodeStatistics(envs, deque_size=max_num_episodes)\n",
    "\n",
    "# Train the model after 4 actions\n",
    "update_after_actions = 4\n",
    "# How often to update the target network\n",
    "update_target_network = 10\n",
    "\n",
    "# Number of frames to take random action and observe output\n",
    "epsilon_random_frames = 50000\n",
    "# Number of frames for exploration\n",
    "epsilon_greedy_frames = 100000.0\n",
    "\n",
    "filename = 'dqn_results.txt'\n",
    "\n",
    "# Initialize the agent\n",
    "num_actions = envs.single_action_space.n\n",
    "#action_space = spaces.Discrete(4)\n",
    "learning_rate = 0.01\n",
    "initial_epsilon = 1.0\n",
    "\n",
    "epsilon_decay = initial_epsilon / (max_num_episodes / 2) \n",
    "final_epsilon = 0.1\n",
    "snake_agent = SnakeAgent(learning_rate, initial_epsilon, epsilon_decay, final_epsilon, num_actions, (Lx,Ly), 0.95, envs, NUM_ENVS)"
   ]
  },
  {
   "cell_type": "markdown",
   "metadata": {},
   "source": [
    "## Train"
   ]
  },
  {
   "cell_type": "code",
   "execution_count": 19,
   "metadata": {},
   "outputs": [],
   "source": [
    "def train_step(states, actions, rewards, next_states, dones, bodies, new_bodies, discount):\n",
    "    \"\"\"\n",
    "    Perform a training iteration on a batch of data sampled from the experience\n",
    "    replay buffer.\n",
    "\n",
    "    Takes as input:\n",
    "        - states: a batch of states\n",
    "        - actions: a batch of actions\n",
    "        - rewards: a batch of rewards\n",
    "        - next_states: a batch of next states\n",
    "        - dones: a batch of dones\n",
    "        - discount: the discount factor, standard discount factor in RL to evaluate less long term rewards\n",
    "    \"\"\"\n",
    "\n",
    "    # compute targets for Q-learning\n",
    "    # the max Q-value of the next state is the target for the current state\n",
    "    # the image to be fed to the network is a grey scale image of the world\n",
    "    images = [snake_agent.get_image(next_state, new_body) for next_state, new_body in zip(next_states,new_bodies)]\n",
    "    input = torch.as_tensor(np.array(images), dtype=torch.float32).unsqueeze(1).to(device)\n",
    "    max_next_qs = snake_agent.model_target(input).max(-1).values\n",
    "\n",
    "    # if the next state is terminal, then the Q-value is just the reward\n",
    "    # otherwise, we add the discounted max Q-value of the next state\n",
    "    target = rewards + (1.0 - dones) * snake_agent.discount_factor * max_next_qs\n",
    "\n",
    "    # then to compute the loss, we also need the Q-value of the current state\n",
    "    images = [snake_agent.get_image(state, body) for state, body in zip(states,bodies)]\n",
    "    input = torch.as_tensor(np.array(images), dtype=torch.float32).unsqueeze(1).to(device)\n",
    "    qs = snake_agent.model(input)\n",
    "\n",
    "    # for each state, we update ONLY the Q-value of the action that was taken\n",
    "\n",
    "    #action_masks = F.one_hot(torch.as_tensor(np.array(actions)).long(), num_actions)\n",
    "    action_masks = F.one_hot(actions.long(), num_actions)\n",
    "    masked_qs = (action_masks * qs).sum(dim=-1)\n",
    "    loss = loss_function(masked_qs, target.detach())\n",
    "    snake_agent.training_error.append(loss.item())\n",
    "\n",
    "    optimizer.zero_grad()\n",
    "    loss.backward()\n",
    "    optimizer.step()\n",
    "    return loss"
   ]
  },
  {
   "cell_type": "code",
   "execution_count": 20,
   "metadata": {},
   "outputs": [
    {
     "name": "stderr",
     "output_type": "stream",
     "text": [
      "100%|██████████| 100/100 [06:31<00:00,  3.91s/it]\n"
     ]
    }
   ],
   "source": [
    "# initialize the buffer, with a size of 100000, when it is full, it will remove the oldest element\n",
    "buffer = VecReplayBuffer(size = 100000, device=device) \n",
    "\n",
    "for episode in tqdm(range(max_num_episodes)):\n",
    "    envs.reset()\n",
    "    #episode_reward = 0\n",
    "\n",
    "    timestep = 0\n",
    "\n",
    "    while timestep < max_steps_per_episode:\n",
    "    \n",
    "        cur_frame += 1\n",
    " \n",
    "        agent = np.stack(envs.get_attr(\"_agent_location\"))\n",
    "        target = np.stack(envs.get_attr(\"_target_location\"))\n",
    "        states = np.concatenate((agent,target),axis=1)\n",
    "        bodies = list(envs.get_attr(\"body\"))\n",
    "        actions = snake_agent.get_mult_action(states, bodies)\n",
    "        \n",
    "        next_states, rewards, dones, _, new_bodies = envs.step(actions)\n",
    "        next_states = np.concatenate((next_states[\"agent\"],next_states[\"target\"]),axis=1)\n",
    "        #episode_reward += rewards\n",
    "        new_bodies = list(new_bodies[\"body\"])\n",
    "\n",
    "                \n",
    "        # Save actions and states in replay buffer\n",
    "        buffer.add_multiple(states, actions, rewards, next_states, dones, bodies, new_bodies)\n",
    "\n",
    "        cur_frame += 1\n",
    "\n",
    "        Train neural network.\n",
    "        if len(buffer) > batch_size and cur_frame % update_after_actions == 0:\n",
    "            states, actions, rewards, next_states, dones, bodies, new_bodies = buffer.sample(batch_size)\n",
    "            loss = train_step(states, actions, rewards, next_states, dones, bodies, new_bodies, discount=0.99)\n",
    "        \n",
    "        # Update target network every update_target_network steps.\n",
    "        if cur_frame % update_target_network == 0:\n",
    "            snake_agent.model_target.load_state_dict(model.state_dict())\n",
    "\n",
    "        timestep += 1\n",
    "    snake_agent.decay_epsilon()\n",
    "    \n",
    "    # if len(last_100_ep_rewards) == 100:\n",
    "    #     last_100_ep_rewards = last_100_ep_rewards[1:]\n",
    "    # last_100_ep_rewards.append(episode_reward)\n",
    "\n",
    "    # running_reward = np.mean(last_100_ep_rewards)\n",
    "\n",
    "    if ((episode+1) % 100) == 0:\n",
    "        # write on file current average reward\n",
    "        with open(filename, 'a') as f:\n",
    "            f.write(f'{episode},{running_reward:.2f}, {snake_agent.epsilon:.3f}\\n')\n",
    "        \n",
    "        metrics ={'return_queue': envs.return_queue, 'length_queue': envs.length_queue, 'training_error': snake_agent.training_error}\n",
    "        with open('metrics.pickle', 'wb') as handle:\n",
    "            pickle.dump(metrics, handle)\n",
    "        \n",
    "        # do we want to save it every 100 episodes? dunno it's up to you\n",
    "        torch.save(snake_agent.model.state_dict(), 'model.pt')\n",
    "\n",
    "    # Condition to consider the task solved\n",
    "    # e.g. to eat at least 6 consecutive food items\n",
    "    # without eating itself, considering also the moves to reach the food\n",
    "    if running_reward > 500: \n",
    "        print(\"Solved at episode {}!\".format(episode))\n",
    "        break"
   ]
  },
  {
   "cell_type": "code",
   "execution_count": 23,
   "metadata": {},
   "outputs": [
    {
     "ename": "ValueError",
     "evalue": "v cannot be empty",
     "output_type": "error",
     "traceback": [
      "\u001b[0;31m---------------------------------------------------------------------------\u001b[0m",
      "\u001b[0;31mValueError\u001b[0m                                Traceback (most recent call last)",
      "Cell \u001b[0;32mIn[23], line 22\u001b[0m\n\u001b[1;32m     19\u001b[0m axs[\u001b[39m1\u001b[39m]\u001b[39m.\u001b[39mplot(\u001b[39mrange\u001b[39m(\u001b[39mlen\u001b[39m(length_moving_average)), length_moving_average)\n\u001b[1;32m     20\u001b[0m axs[\u001b[39m2\u001b[39m]\u001b[39m.\u001b[39mset_title(\u001b[39m\"\u001b[39m\u001b[39mTraining Error\u001b[39m\u001b[39m\"\u001b[39m)\n\u001b[1;32m     21\u001b[0m training_error_moving_average \u001b[39m=\u001b[39m (\n\u001b[0;32m---> 22\u001b[0m     np\u001b[39m.\u001b[39;49mconvolve(np\u001b[39m.\u001b[39;49marray(snake_agent\u001b[39m.\u001b[39;49mtraining_error), np\u001b[39m.\u001b[39;49mones(rolling_length), mode\u001b[39m=\u001b[39;49m\u001b[39m\"\u001b[39;49m\u001b[39msame\u001b[39;49m\u001b[39m\"\u001b[39;49m)\n\u001b[1;32m     23\u001b[0m     \u001b[39m/\u001b[39m rolling_length\n\u001b[1;32m     24\u001b[0m )\n\u001b[1;32m     25\u001b[0m axs[\u001b[39m2\u001b[39m]\u001b[39m.\u001b[39mplot(\u001b[39mrange\u001b[39m(\u001b[39mlen\u001b[39m(training_error_moving_average)), training_error_moving_average)\n\u001b[1;32m     26\u001b[0m plt\u001b[39m.\u001b[39mtight_layout()\n",
      "File \u001b[0;32m~/miniconda3/envs/myenv/lib/python3.10/site-packages/numpy/core/numeric.py:833\u001b[0m, in \u001b[0;36mconvolve\u001b[0;34m(a, v, mode)\u001b[0m\n\u001b[1;32m    831\u001b[0m     \u001b[39mraise\u001b[39;00m \u001b[39mValueError\u001b[39;00m(\u001b[39m'\u001b[39m\u001b[39ma cannot be empty\u001b[39m\u001b[39m'\u001b[39m)\n\u001b[1;32m    832\u001b[0m \u001b[39mif\u001b[39;00m \u001b[39mlen\u001b[39m(v) \u001b[39m==\u001b[39m \u001b[39m0\u001b[39m:\n\u001b[0;32m--> 833\u001b[0m     \u001b[39mraise\u001b[39;00m \u001b[39mValueError\u001b[39;00m(\u001b[39m'\u001b[39m\u001b[39mv cannot be empty\u001b[39m\u001b[39m'\u001b[39m)\n\u001b[1;32m    834\u001b[0m \u001b[39mreturn\u001b[39;00m multiarray\u001b[39m.\u001b[39mcorrelate(a, v[::\u001b[39m-\u001b[39m\u001b[39m1\u001b[39m], mode)\n",
      "\u001b[0;31mValueError\u001b[0m: v cannot be empty"
     ]
    },
    {
     "data": {
      "image/png": "[encoded data removed]",
      "text/plain": [
       "<Figure size 1200x500 with 3 Axes>"
      ]
     },
     "metadata": {},
     "output_type": "display_data"
    }
   ],
   "source": [
    "rolling_length = 500\n",
    "fig, axs = plt.subplots(ncols=3, figsize=(12, 5))\n",
    "axs[0].set_title(\"Episode rewards\")\n",
    "# compute and assign a rolling average of the data to provide a smoother graph\n",
    "reward_moving_average = (\n",
    "    np.convolve(\n",
    "        np.array(envs.return_queue).flatten(), np.ones(rolling_length), mode=\"valid\"\n",
    "    )\n",
    "    / rolling_length\n",
    ")\n",
    "axs[0].plot(range(len(reward_moving_average)), reward_moving_average)\n",
    "axs[1].set_title(\"Episode lengths\")\n",
    "length_moving_average = (\n",
    "    np.convolve(\n",
    "        np.array(envs.length_queue).flatten(), np.ones(rolling_length), mode=\"same\"\n",
    "    )\n",
    "    / rolling_length\n",
    ")\n",
    "axs[1].plot(range(len(length_moving_average)), length_moving_average)\n",
    "axs[2].set_title(\"Training Error\")\n",
    "training_error_moving_average = (\n",
    "    np.convolve(np.array(snake_agent.training_error), np.ones(rolling_length), mode=\"same\")\n",
    "    / rolling_length\n",
    ")\n",
    "axs[2].plot(range(len(training_error_moving_average)), training_error_moving_average)\n",
    "plt.tight_layout()\n",
    "plt.show()"
   ]
  }
 ],
 "metadata": {
  "kernelspec": {
   "display_name": "deep-learn",
   "language": "python",
   "name": "python3"
  },
  "language_info": {
   "codemirror_mode": {
    "name": "ipython",
    "version": 3
   },
   "file_extension": ".py",
   "mimetype": "text/x-python",
   "name": "python",
   "nbconvert_exporter": "python",
   "pygments_lexer": "ipython3",
   "version": "3.10.11"
  },
  "orig_nbformat": 4
 },
 "nbformat": 4,
 "nbformat_minor": 2
}
